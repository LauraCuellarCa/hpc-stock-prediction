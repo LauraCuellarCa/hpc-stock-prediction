{
  "cells": [
    {
      "cell_type": "code",
      "execution_count": 44,
      "metadata": {
        "colab": {
          "base_uri": "https://localhost:8080/"
        },
        "id": "bMZyTnZlhXwE",
        "outputId": "c9f908af-241c-4d90-c932-d2f091fefe26"
      },
      "outputs": [
        {
          "name": "stdout",
          "output_type": "stream",
          "text": [
            "Requirement already satisfied: boto3 in /usr/local/lib/python3.10/dist-packages (1.35.71)\n",
            "Requirement already satisfied: botocore<1.36.0,>=1.35.71 in /usr/local/lib/python3.10/dist-packages (from boto3) (1.35.71)\n",
            "Requirement already satisfied: jmespath<2.0.0,>=0.7.1 in /usr/local/lib/python3.10/dist-packages (from boto3) (1.0.1)\n",
            "Requirement already satisfied: s3transfer<0.11.0,>=0.10.0 in /usr/local/lib/python3.10/dist-packages (from boto3) (0.10.4)\n",
            "Requirement already satisfied: python-dateutil<3.0.0,>=2.1 in /usr/local/lib/python3.10/dist-packages (from botocore<1.36.0,>=1.35.71->boto3) (2.8.2)\n",
            "Requirement already satisfied: urllib3!=2.2.0,<3,>=1.25.4 in /usr/local/lib/python3.10/dist-packages (from botocore<1.36.0,>=1.35.71->boto3) (2.2.3)\n",
            "Requirement already satisfied: six>=1.5 in /usr/local/lib/python3.10/dist-packages (from python-dateutil<3.0.0,>=2.1->botocore<1.36.0,>=1.35.71->boto3) (1.16.0)\n",
            "Requirement already satisfied: pycuda in /usr/local/lib/python3.10/dist-packages (2024.1.2)\n",
            "Requirement already satisfied: pytools>=2011.2 in /usr/local/lib/python3.10/dist-packages (from pycuda) (2024.1.17)\n",
            "Requirement already satisfied: platformdirs>=2.2.0 in /usr/local/lib/python3.10/dist-packages (from pycuda) (4.3.6)\n",
            "Requirement already satisfied: mako in /usr/local/lib/python3.10/dist-packages (from pycuda) (1.3.6)\n",
            "Requirement already satisfied: typing-extensions>=4 in /usr/local/lib/python3.10/dist-packages (from pytools>=2011.2->pycuda) (4.12.2)\n",
            "Requirement already satisfied: MarkupSafe>=0.9.2 in /usr/local/lib/python3.10/dist-packages (from mako->pycuda) (3.0.2)\n"
          ]
        }
      ],
      "source": [
        "# Install required packages\n",
        "!pip install boto3\n",
        "!pip install pycuda"
      ]
    },
    {
      "cell_type": "code",
      "execution_count": 45,
      "metadata": {
        "id": "0isHSeRThauK"
      },
      "outputs": [],
      "source": [
        "import os\n",
        "import boto3\n",
        "\n",
        "\n",
        "aws_access_key_id = ''\n",
        "aws_secret_access_key = ''\n",
        "aws_region = 'eu-west-1'\n",
        "s3_bucket_name = 'myhpcbucket-160903'\n",
        "\n",
        "\n",
        "# Initialize S3 client\n",
        "s3_client = boto3.client(\n",
        "    's3',\n",
        "    aws_access_key_id=aws_access_key_id,\n",
        "    aws_secret_access_key=aws_secret_access_key,\n",
        "    region_name=aws_region\n",
        ")"
      ]
    },
    {
      "cell_type": "code",
      "execution_count": 46,
      "metadata": {
        "id": "6PcitJkZr0pC"
      },
      "outputs": [],
      "source": [
        "import pandas as pd\n",
        "import numpy as np\n",
        "import matplotlib.pyplot as plt\n",
        "import pandas_datareader as data\n",
        "import yfinance as yf\n",
        "import tensorflow as tf\n",
        "import time\n",
        "import pycuda.driver as cuda\n",
        "import pycuda.autoinit\n",
        "from pycuda.compiler import SourceModule\n",
        "import boto3"
      ]
    },
    {
      "cell_type": "code",
      "execution_count": 47,
      "metadata": {
        "colab": {
          "base_uri": "https://localhost:8080/",
          "height": 129
        },
        "id": "RyPVLcerr3eW",
        "outputId": "cf2a62e0-d02a-4c7e-944d-6836cd58094a"
      },
      "outputs": [
        {
          "name": "stderr",
          "output_type": "stream",
          "text": [
            "\r[*********************100%***********************]  1 of 1 completed\n",
            "<ipython-input-47-80effd19c2f2>:6: PerformanceWarning: dropping on a non-lexsorted multi-index without a level parameter may impact performance.\n",
            "  df = df.drop(['Date', 'Adj Close'], axis=1)\n"
          ]
        },
        {
          "data": {
            "application/vnd.google.colaboratory.intrinsic+json": {
              "type": "string"
            },
            "text/plain": [
              "'\\nticker = \"AAPL\"  # Apple stock symbol\\nstart_date = \"2010-01-01\"\\nend_date = \"2024-01-01\"\\ndf = yf.download(ticker, start=start_date, end=end_date)\\ndf = df.reset_index()\\ndf = df.drop([\\'Date\\', \\'Adj Close\\'], axis=1)\\ndf.head()\\n'"
            ]
          },
          "execution_count": 47,
          "metadata": {},
          "output_type": "execute_result"
        }
      ],
      "source": [
        "ticker = \"GOOGL\"  # Google stock symbol\n",
        "start_date = \"2004-01-01\"\n",
        "end_date = \"2024-11-27\"\n",
        "df = yf.download(ticker, start=start_date, end=end_date)\n",
        "df = df.reset_index()\n",
        "df = df.drop(['Date', 'Adj Close'], axis=1)\n",
        "df.shape\n",
        "\n",
        "'''\n",
        "ticker = \"AAPL\"  # Apple stock symbol\n",
        "start_date = \"2010-01-01\"\n",
        "end_date = \"2024-01-01\"\n",
        "df = yf.download(ticker, start=start_date, end=end_date)\n",
        "df = df.reset_index()\n",
        "df = df.drop(['Date', 'Adj Close'], axis=1)\n",
        "df.head()\n",
        "'''"
      ]
    },
    {
      "cell_type": "code",
      "execution_count": 48,
      "metadata": {
        "colab": {
          "base_uri": "https://localhost:8080/"
        },
        "id": "Z6OX22qjOhBa",
        "outputId": "015a79b0-ce10-4a87-c24e-2c1aa6267764"
      },
      "outputs": [
        {
          "data": {
            "text/plain": [
              "(5104, 5)"
            ]
          },
          "execution_count": 48,
          "metadata": {},
          "output_type": "execute_result"
        }
      ],
      "source": [
        "df.shape"
      ]
    },
    {
      "cell_type": "code",
      "execution_count": 49,
      "metadata": {
        "id": "OWfTST1oyw--"
      },
      "outputs": [],
      "source": [
        "ma100 = df.Close.rolling(100).mean()"
      ]
    },
    {
      "cell_type": "code",
      "execution_count": 50,
      "metadata": {
        "colab": {
          "base_uri": "https://localhost:8080/",
          "height": 563
        },
        "id": "IfKVdmOtyy7W",
        "outputId": "a9c1fd1d-1535-4247-a81c-0d8be837eba4"
      },
      "outputs": [
        {
          "data": {
            "text/plain": [
              "<matplotlib.legend.Legend at 0x7e829b24dc90>"
            ]
          },
          "execution_count": 50,
          "metadata": {},
          "output_type": "execute_result"
        },
        {
          "data": {
            "image/png": "[encoded data removed]",
            "text/plain": [
              "<Figure size 1000x600 with 1 Axes>"
            ]
          },
          "metadata": {},
          "output_type": "display_data"
        }
      ],
      "source": [
        "plt.figure(figsize = (10, 6))\n",
        "plt.title(\"Closing Price Vs Time Chart\")\n",
        "plt.plot(df.Close, 'r', label=\"Per Day Closing\")\n",
        "plt.plot(ma100, 'g', label=\"Moving Average 100\")\n",
        "plt.legend()"
      ]
    },
    {
      "cell_type": "code",
      "execution_count": 51,
      "metadata": {
        "id": "DRiOK37izen_"
      },
      "outputs": [],
      "source": [
        "ma200 = df.Close.rolling(200).mean()"
      ]
    },
    {
      "cell_type": "code",
      "execution_count": 52,
      "metadata": {
        "colab": {
          "base_uri": "https://localhost:8080/",
          "height": 563
        },
        "id": "jg3peOIPy98m",
        "outputId": "362debf0-0d6d-4650-8f2f-c69ac9957328"
      },
      "outputs": [
        {
          "data": {
            "text/plain": [
              "<matplotlib.legend.Legend at 0x7e829b28a770>"
            ]
          },
          "execution_count": 52,
          "metadata": {},
          "output_type": "execute_result"
        },
        {
          "data": {
            "image/png": "[encoded data removed]",
            "text/plain": [
              "<Figure size 1000x600 with 1 Axes>"
            ]
          },
          "metadata": {},
          "output_type": "display_data"
        }
      ],
      "source": [
        "plt.figure(figsize = (10, 6))\n",
        "plt.title(\"Closing Price Vs Time Chart\")\n",
        "plt.plot(ma100, 'g', label=\"Moving Average 100\")\n",
        "plt.plot(ma200, 'b', label=\"Moving Average 200\")\n",
        "plt.legend()"
      ]
    },
    {
      "cell_type": "code",
      "execution_count": 53,
      "metadata": {
        "colab": {
          "base_uri": "https://localhost:8080/"
        },
        "id": "CyfvrvVezjmt",
        "outputId": "1ba4118c-9cb6-4d05-ac01-7e8144742bbe"
      },
      "outputs": [
        {
          "name": "stdout",
          "output_type": "stream",
          "text": [
            "(4083, 1)\n",
            "(1021, 1)\n"
          ]
        }
      ],
      "source": [
        "train_df = pd.DataFrame(df['Close'][0: int(len(df)*0.80)])\n",
        "test_df = pd.DataFrame(df['Close'][int(len(df)*0.80):int(len(df))])\n",
        "print(train_df.shape)\n",
        "print(test_df.shape)"
      ]
    },
    {
      "cell_type": "code",
      "execution_count": 54,
      "metadata": {
        "colab": {
          "base_uri": "https://localhost:8080/"
        },
        "id": "BuPF2uPl_KfA",
        "outputId": "83c09ada-cf96-4800-9a17-006bab954913"
      },
      "outputs": [
        {
          "name": "stdout",
          "output_type": "stream",
          "text": [
            "Scaled Data (NumPy Array):\n",
            "[[9.7392265e-05]\n",
            " [2.4496703e-03]\n",
            " [2.7713832e-03]\n",
            " ...\n",
            " [9.2833447e-01]\n",
            " [9.4091851e-01]\n",
            " [1.0000000e+00]]\n"
          ]
        }
      ],
      "source": [
        "# Define the CUDA kernel\n",
        "kernel_code = \"\"\"\n",
        "__global__ void min_max_scaler(float *data, float *min_vals, float *max_vals, int rows, int cols) {\n",
        "    int idx = threadIdx.x + blockIdx.x * blockDim.x;\n",
        "    int col = idx % cols;\n",
        "    int row = idx / cols;\n",
        "\n",
        "    if (row < rows && col < cols) {\n",
        "        float min_val = min_vals[col];\n",
        "        float max_val = max_vals[col];\n",
        "        data[idx] = (data[idx] - min_val) / (max_val - min_val);\n",
        "    }\n",
        "}\n",
        "\"\"\"\n",
        "\n",
        "mod = SourceModule(kernel_code)\n",
        "min_max_scaler = mod.get_function(\"min_max_scaler\")\n",
        "\n",
        "# Get rows and cols\n",
        "train_df1 = train_df.to_numpy().astype(np.float32)\n",
        "rows, cols = train_df1.shape\n",
        "\n",
        "# Calculate min and max values per column on the CPU\n",
        "min_vals = train_df1.min(axis=0).astype(np.float32)\n",
        "max_vals = train_df1.max(axis=0).astype(np.float32)\n",
        "\n",
        "# Allocate GPU memory and transfer data\n",
        "train_df_gpu = cuda.mem_alloc(train_df1.nbytes)\n",
        "cuda.memcpy_htod(train_df_gpu, train_df1)\n",
        "min_vals_gpu = cuda.mem_alloc(min_vals.nbytes)\n",
        "cuda.memcpy_htod(min_vals_gpu, min_vals)\n",
        "max_vals_gpu = cuda.mem_alloc(max_vals.nbytes)\n",
        "cuda.memcpy_htod(max_vals_gpu, max_vals)\n",
        "\n",
        "# Launch kernel\n",
        "threads_per_block = 256\n",
        "blocks_per_grid = (rows * cols + threads_per_block - 1) // threads_per_block\n",
        "min_max_scaler(train_df_gpu, min_vals_gpu, max_vals_gpu, np.int32(rows), np.int32(cols),\n",
        "               block=(threads_per_block, 1, 1), grid=(blocks_per_grid, 1))\n",
        "\n",
        "# Copy back the scaled data\n",
        "train_df_arr = np.empty_like(train_df1)\n",
        "cuda.memcpy_dtoh(train_df_arr, train_df_gpu)\n",
        "\n",
        "print(\"Scaled Data (NumPy Array):\")\n",
        "print(train_df_arr)"
      ]
    },
    {
      "cell_type": "code",
      "execution_count": 55,
      "metadata": {
        "colab": {
          "base_uri": "https://localhost:8080/"
        },
        "id": "qxX2xfeUzq51",
        "outputId": "e13c4204-a624-46c5-e69f-6cdf5e4480c9"
      },
      "outputs": [
        {
          "data": {
            "text/plain": [
              "((3983, 100, 1), (3983,))"
            ]
          },
          "execution_count": 55,
          "metadata": {},
          "output_type": "execute_result"
        }
      ],
      "source": [
        "x_train = []\n",
        "y_train = []\n",
        "for i in range(100, train_df_arr.shape[0]):\n",
        "    x_train.append(train_df_arr[i-100: i])\n",
        "    y_train.append(train_df_arr[i, 0])\n",
        "x_train, y_train = np.array(x_train), np.array(y_train)\n",
        "x_train.shape, y_train.shape"
      ]
    },
    {
      "cell_type": "code",
      "execution_count": 56,
      "metadata": {
        "id": "gqNDTQF3ztJ6"
      },
      "outputs": [],
      "source": [
        "# 1. Dropout is a regularization technique where randomly selected neurons are ignored during training.\n",
        "# In order to prevent Neural Network from overfitting\n",
        "# 2. LSTM, which stands for long short-term memory network, is a special kind of RNN that can perform\n",
        "# learning from long-term dependencies, which is a problem when using simple RNN.\n",
        "# 3. A recurrent neural network (RNN) is a type of artificial neural network which uses sequential data or time series data.\n",
        "# 4. A dense layer is a fully connected layer used in the neural network's end stages\n",
        "# to change the output's dimensionality from the preceding layer.\n",
        "from keras.layers import Dense, Dropout, LSTM\n",
        "from keras.models import Sequential"
      ]
    },
    {
      "cell_type": "code",
      "execution_count": 57,
      "metadata": {
        "colab": {
          "base_uri": "https://localhost:8080/"
        },
        "id": "9A-0KTw7zw37",
        "outputId": "a29699bc-e078-4545-8de9-a4cbc95de031"
      },
      "outputs": [
        {
          "name": "stderr",
          "output_type": "stream",
          "text": [
            "/usr/local/lib/python3.10/dist-packages/google/colab/_variable_inspector.py:27: UserWarning: module in out-of-thread context could not be cleaned up\n",
            "  globals().clear()\n",
            "/usr/local/lib/python3.10/dist-packages/google/colab/_variable_inspector.py:27: UserWarning: device_allocation in out-of-thread context could not be cleaned up\n",
            "  globals().clear()\n",
            "/usr/local/lib/python3.10/dist-packages/keras/src/layers/rnn/rnn.py:204: UserWarning: Do not pass an `input_shape`/`input_dim` argument to a layer. When using Sequential models, prefer using an `Input(shape)` object as the first layer in the model instead.\n",
            "  super().__init__(**kwargs)\n"
          ]
        }
      ],
      "source": [
        "model = Sequential()\n",
        "\n",
        "model.add(LSTM(units=50, activation='relu', return_sequences=True, input_shape=(x_train.shape[1], 1)))\n",
        "model.add(Dropout(0.2))\n",
        "\n",
        "model.add(LSTM(units=60, activation='relu', return_sequences=True))\n",
        "model.add(Dropout(0.3))\n",
        "\n",
        "model.add(LSTM(units=80, activation='relu', return_sequences=True))\n",
        "model.add(Dropout(0.4))\n",
        "\n",
        "model.add(LSTM(units=120, activation='relu'))\n",
        "model.add(Dropout(0.5))\n",
        "\n",
        "model.add(Dense(units=1))\n"
      ]
    },
    {
      "cell_type": "code",
      "execution_count": 58,
      "metadata": {
        "colab": {
          "base_uri": "https://localhost:8080/",
          "height": 430
        },
        "id": "7SuPrLQrzyt1",
        "outputId": "b4e6c7d1-9879-434a-d70f-5478acc9a145"
      },
      "outputs": [
        {
          "data": {
            "text/html": [
              "<pre style=\"white-space:pre;overflow-x:auto;line-height:normal;font-family:Menlo,'DejaVu Sans Mono',consolas,'Courier New',monospace\"><span style=\"font-weight: bold\">Model: \"sequential_2\"</span>\n",
              "</pre>\n"
            ],
            "text/plain": [
              "\u001b[1mModel: \"sequential_2\"\u001b[0m\n"
            ]
          },
          "metadata": {},
          "output_type": "display_data"
        },
        {
          "data": {
            "text/html": [
              "<pre style=\"white-space:pre;overflow-x:auto;line-height:normal;font-family:Menlo,'DejaVu Sans Mono',consolas,'Courier New',monospace\">┏━━━━━━━━━━━━━━━━━━━━━━━━━━━━━━━━━━━━━━┳━━━━━━━━━━━━━━━━━━━━━━━━━━━━━┳━━━━━━━━━━━━━━━━━┓\n",
              "┃<span style=\"font-weight: bold\"> Layer (type)                         </span>┃<span style=\"font-weight: bold\"> Output Shape                </span>┃<span style=\"font-weight: bold\">         Param # </span>┃\n",
              "┡━━━━━━━━━━━━━━━━━━━━━━━━━━━━━━━━━━━━━━╇━━━━━━━━━━━━━━━━━━━━━━━━━━━━━╇━━━━━━━━━━━━━━━━━┩\n",
              "│ lstm_8 (<span style=\"color: #0087ff; text-decoration-color: #0087ff\">LSTM</span>)                        │ (<span style=\"color: #00d7ff; text-decoration-color: #00d7ff\">None</span>, <span style=\"color: #00af00; text-decoration-color: #00af00\">100</span>, <span style=\"color: #00af00; text-decoration-color: #00af00\">50</span>)             │          <span style=\"color: #00af00; text-decoration-color: #00af00\">10,400</span> │\n",
              "├──────────────────────────────────────┼─────────────────────────────┼─────────────────┤\n",
              "│ dropout_8 (<span style=\"color: #0087ff; text-decoration-color: #0087ff\">Dropout</span>)                  │ (<span style=\"color: #00d7ff; text-decoration-color: #00d7ff\">None</span>, <span style=\"color: #00af00; text-decoration-color: #00af00\">100</span>, <span style=\"color: #00af00; text-decoration-color: #00af00\">50</span>)             │               <span style=\"color: #00af00; text-decoration-color: #00af00\">0</span> │\n",
              "├──────────────────────────────────────┼─────────────────────────────┼─────────────────┤\n",
              "│ lstm_9 (<span style=\"color: #0087ff; text-decoration-color: #0087ff\">LSTM</span>)                        │ (<span style=\"color: #00d7ff; text-decoration-color: #00d7ff\">None</span>, <span style=\"color: #00af00; text-decoration-color: #00af00\">100</span>, <span style=\"color: #00af00; text-decoration-color: #00af00\">60</span>)             │          <span style=\"color: #00af00; text-decoration-color: #00af00\">26,640</span> │\n",
              "├──────────────────────────────────────┼─────────────────────────────┼─────────────────┤\n",
              "│ dropout_9 (<span style=\"color: #0087ff; text-decoration-color: #0087ff\">Dropout</span>)                  │ (<span style=\"color: #00d7ff; text-decoration-color: #00d7ff\">None</span>, <span style=\"color: #00af00; text-decoration-color: #00af00\">100</span>, <span style=\"color: #00af00; text-decoration-color: #00af00\">60</span>)             │               <span style=\"color: #00af00; text-decoration-color: #00af00\">0</span> │\n",
              "├──────────────────────────────────────┼─────────────────────────────┼─────────────────┤\n",
              "│ lstm_10 (<span style=\"color: #0087ff; text-decoration-color: #0087ff\">LSTM</span>)                       │ (<span style=\"color: #00d7ff; text-decoration-color: #00d7ff\">None</span>, <span style=\"color: #00af00; text-decoration-color: #00af00\">100</span>, <span style=\"color: #00af00; text-decoration-color: #00af00\">80</span>)             │          <span style=\"color: #00af00; text-decoration-color: #00af00\">45,120</span> │\n",
              "├──────────────────────────────────────┼─────────────────────────────┼─────────────────┤\n",
              "│ dropout_10 (<span style=\"color: #0087ff; text-decoration-color: #0087ff\">Dropout</span>)                 │ (<span style=\"color: #00d7ff; text-decoration-color: #00d7ff\">None</span>, <span style=\"color: #00af00; text-decoration-color: #00af00\">100</span>, <span style=\"color: #00af00; text-decoration-color: #00af00\">80</span>)             │               <span style=\"color: #00af00; text-decoration-color: #00af00\">0</span> │\n",
              "├──────────────────────────────────────┼─────────────────────────────┼─────────────────┤\n",
              "│ lstm_11 (<span style=\"color: #0087ff; text-decoration-color: #0087ff\">LSTM</span>)                       │ (<span style=\"color: #00d7ff; text-decoration-color: #00d7ff\">None</span>, <span style=\"color: #00af00; text-decoration-color: #00af00\">120</span>)                 │          <span style=\"color: #00af00; text-decoration-color: #00af00\">96,480</span> │\n",
              "├──────────────────────────────────────┼─────────────────────────────┼─────────────────┤\n",
              "│ dropout_11 (<span style=\"color: #0087ff; text-decoration-color: #0087ff\">Dropout</span>)                 │ (<span style=\"color: #00d7ff; text-decoration-color: #00d7ff\">None</span>, <span style=\"color: #00af00; text-decoration-color: #00af00\">120</span>)                 │               <span style=\"color: #00af00; text-decoration-color: #00af00\">0</span> │\n",
              "├──────────────────────────────────────┼─────────────────────────────┼─────────────────┤\n",
              "│ dense_2 (<span style=\"color: #0087ff; text-decoration-color: #0087ff\">Dense</span>)                      │ (<span style=\"color: #00d7ff; text-decoration-color: #00d7ff\">None</span>, <span style=\"color: #00af00; text-decoration-color: #00af00\">1</span>)                   │             <span style=\"color: #00af00; text-decoration-color: #00af00\">121</span> │\n",
              "└──────────────────────────────────────┴─────────────────────────────┴─────────────────┘\n",
              "</pre>\n"
            ],
            "text/plain": [
              "┏━━━━━━━━━━━━━━━━━━━━━━━━━━━━━━━━━━━━━━┳━━━━━━━━━━━━━━━━━━━━━━━━━━━━━┳━━━━━━━━━━━━━━━━━┓\n",
              "┃\u001b[1m \u001b[0m\u001b[1mLayer (type)                        \u001b[0m\u001b[1m \u001b[0m┃\u001b[1m \u001b[0m\u001b[1mOutput Shape               \u001b[0m\u001b[1m \u001b[0m┃\u001b[1m \u001b[0m\u001b[1m        Param #\u001b[0m\u001b[1m \u001b[0m┃\n",
              "┡━━━━━━━━━━━━━━━━━━━━━━━━━━━━━━━━━━━━━━╇━━━━━━━━━━━━━━━━━━━━━━━━━━━━━╇━━━━━━━━━━━━━━━━━┩\n",
              "│ lstm_8 (\u001b[38;5;33mLSTM\u001b[0m)                        │ (\u001b[38;5;45mNone\u001b[0m, \u001b[38;5;34m100\u001b[0m, \u001b[38;5;34m50\u001b[0m)             │          \u001b[38;5;34m10,400\u001b[0m │\n",
              "├──────────────────────────────────────┼─────────────────────────────┼─────────────────┤\n",
              "│ dropout_8 (\u001b[38;5;33mDropout\u001b[0m)                  │ (\u001b[38;5;45mNone\u001b[0m, \u001b[38;5;34m100\u001b[0m, \u001b[38;5;34m50\u001b[0m)             │               \u001b[38;5;34m0\u001b[0m │\n",
              "├──────────────────────────────────────┼─────────────────────────────┼─────────────────┤\n",
              "│ lstm_9 (\u001b[38;5;33mLSTM\u001b[0m)                        │ (\u001b[38;5;45mNone\u001b[0m, \u001b[38;5;34m100\u001b[0m, \u001b[38;5;34m60\u001b[0m)             │          \u001b[38;5;34m26,640\u001b[0m │\n",
              "├──────────────────────────────────────┼─────────────────────────────┼─────────────────┤\n",
              "│ dropout_9 (\u001b[38;5;33mDropout\u001b[0m)                  │ (\u001b[38;5;45mNone\u001b[0m, \u001b[38;5;34m100\u001b[0m, \u001b[38;5;34m60\u001b[0m)             │               \u001b[38;5;34m0\u001b[0m │\n",
              "├──────────────────────────────────────┼─────────────────────────────┼─────────────────┤\n",
              "│ lstm_10 (\u001b[38;5;33mLSTM\u001b[0m)                       │ (\u001b[38;5;45mNone\u001b[0m, \u001b[38;5;34m100\u001b[0m, \u001b[38;5;34m80\u001b[0m)             │          \u001b[38;5;34m45,120\u001b[0m │\n",
              "├──────────────────────────────────────┼─────────────────────────────┼─────────────────┤\n",
              "│ dropout_10 (\u001b[38;5;33mDropout\u001b[0m)                 │ (\u001b[38;5;45mNone\u001b[0m, \u001b[38;5;34m100\u001b[0m, \u001b[38;5;34m80\u001b[0m)             │               \u001b[38;5;34m0\u001b[0m │\n",
              "├──────────────────────────────────────┼─────────────────────────────┼─────────────────┤\n",
              "│ lstm_11 (\u001b[38;5;33mLSTM\u001b[0m)                       │ (\u001b[38;5;45mNone\u001b[0m, \u001b[38;5;34m120\u001b[0m)                 │          \u001b[38;5;34m96,480\u001b[0m │\n",
              "├──────────────────────────────────────┼─────────────────────────────┼─────────────────┤\n",
              "│ dropout_11 (\u001b[38;5;33mDropout\u001b[0m)                 │ (\u001b[38;5;45mNone\u001b[0m, \u001b[38;5;34m120\u001b[0m)                 │               \u001b[38;5;34m0\u001b[0m │\n",
              "├──────────────────────────────────────┼─────────────────────────────┼─────────────────┤\n",
              "│ dense_2 (\u001b[38;5;33mDense\u001b[0m)                      │ (\u001b[38;5;45mNone\u001b[0m, \u001b[38;5;34m1\u001b[0m)                   │             \u001b[38;5;34m121\u001b[0m │\n",
              "└──────────────────────────────────────┴─────────────────────────────┴─────────────────┘\n"
            ]
          },
          "metadata": {},
          "output_type": "display_data"
        },
        {
          "data": {
            "text/html": [
              "<pre style=\"white-space:pre;overflow-x:auto;line-height:normal;font-family:Menlo,'DejaVu Sans Mono',consolas,'Courier New',monospace\"><span style=\"font-weight: bold\"> Total params: </span><span style=\"color: #00af00; text-decoration-color: #00af00\">178,761</span> (698.29 KB)\n",
              "</pre>\n"
            ],
            "text/plain": [
              "\u001b[1m Total params: \u001b[0m\u001b[38;5;34m178,761\u001b[0m (698.29 KB)\n"
            ]
          },
          "metadata": {},
          "output_type": "display_data"
        },
        {
          "data": {
            "text/html": [
              "<pre style=\"white-space:pre;overflow-x:auto;line-height:normal;font-family:Menlo,'DejaVu Sans Mono',consolas,'Courier New',monospace\"><span style=\"font-weight: bold\"> Trainable params: </span><span style=\"color: #00af00; text-decoration-color: #00af00\">178,761</span> (698.29 KB)\n",
              "</pre>\n"
            ],
            "text/plain": [
              "\u001b[1m Trainable params: \u001b[0m\u001b[38;5;34m178,761\u001b[0m (698.29 KB)\n"
            ]
          },
          "metadata": {},
          "output_type": "display_data"
        },
        {
          "data": {
            "text/html": [
              "<pre style=\"white-space:pre;overflow-x:auto;line-height:normal;font-family:Menlo,'DejaVu Sans Mono',consolas,'Courier New',monospace\"><span style=\"font-weight: bold\"> Non-trainable params: </span><span style=\"color: #00af00; text-decoration-color: #00af00\">0</span> (0.00 B)\n",
              "</pre>\n"
            ],
            "text/plain": [
              "\u001b[1m Non-trainable params: \u001b[0m\u001b[38;5;34m0\u001b[0m (0.00 B)\n"
            ]
          },
          "metadata": {},
          "output_type": "display_data"
        }
      ],
      "source": [
        "model.summary()"
      ]
    },
    {
      "cell_type": "markdown",
      "metadata": {
        "id": "qrL3fVp5tbeu"
      },
      "source": [
        "# Zaid Stuff"
      ]
    },
    {
      "cell_type": "code",
      "execution_count": 59,
      "metadata": {
        "id": "9xzN84mXskmt"
      },
      "outputs": [],
      "source": [
        "# CUDA Kernel for Mean Squared Error Computation\n",
        "cuda_mse_kernel = \"\"\"\n",
        "__global__ void compute_mse(float *predictions, float *true_values, float *mse, int n) {\n",
        "    __shared__ float partial_sum[256];\n",
        "    int tid = threadIdx.x;\n",
        "    int i = blockIdx.x * blockDim.x + threadIdx.x;\n",
        "\n",
        "    float error = 0.0f;\n",
        "    if (i < n) {\n",
        "        error = predictions[i] - true_values[i];\n",
        "        error = error * error;\n",
        "    }\n",
        "\n",
        "    // Parallel reduction in shared memory\n",
        "    partial_sum[tid] = error;\n",
        "    __syncthreads();\n",
        "\n",
        "    for (int stride = blockDim.x/2; stride > 0; stride >>= 1) {\n",
        "        if (tid < stride) {\n",
        "            partial_sum[tid] += partial_sum[tid + stride];\n",
        "        }\n",
        "        __syncthreads();\n",
        "    }\n",
        "\n",
        "    // First thread writes the block's result\n",
        "    if (tid == 0) {\n",
        "        atomicAdd(mse, partial_sum[0] / n);\n",
        "    }\n",
        "}\n",
        "\"\"\"\n",
        "\n",
        "class PyCUDAMSEComputer:\n",
        "    def __init__(self, block_size=256):\n",
        "        \"\"\"\n",
        "        Initialize PyCUDA MSE Computer\n",
        "\n",
        "        Args:\n",
        "            block_size (int): CUDA block size for parallel computation\n",
        "        \"\"\"\n",
        "        self.block_size = block_size\n",
        "\n",
        "        # Compile CUDA kernel\n",
        "        self.mod = SourceModule(cuda_mse_kernel)\n",
        "        self.compute_mse_kernel = self.mod.get_function(\"compute_mse\")\n",
        "\n",
        "    def compute_mse_gpu(self, predictions, true_values):\n",
        "        \"\"\"\n",
        "        Compute Mean Squared Error using GPU\n",
        "\n",
        "        Args:\n",
        "            predictions (np.ndarray): Model predictions\n",
        "            true_values (np.ndarray): True target values\n",
        "\n",
        "        Returns:\n",
        "            float: Mean Squared Error\n",
        "        \"\"\"\n",
        "        # Flatten predictions and true_values to 1D array\n",
        "        predictions_flat = predictions.flatten().astype(np.float32)\n",
        "        true_values_flat = true_values.flatten().astype(np.float32)\n",
        "\n",
        "        # Check input compatibility\n",
        "        assert predictions_flat.shape == true_values_flat.shape, \"Flattened predictions and true values must have same shape\"\n",
        "\n",
        "        # Prepare GPU memory\n",
        "        n = len(predictions_flat)\n",
        "        grid_size = (n + self.block_size - 1) // self.block_size\n",
        "\n",
        "        # Allocate GPU memory\n",
        "        predictions_gpu = cuda.mem_alloc(predictions_flat.nbytes)\n",
        "        true_values_gpu = cuda.mem_alloc(true_values_flat.nbytes)\n",
        "        mse_gpu = cuda.mem_alloc(4)  # float size\n",
        "\n",
        "        # Copy data to GPU\n",
        "        cuda.memcpy_htod(predictions_gpu, predictions_flat)\n",
        "        cuda.memcpy_htod(true_values_gpu, true_values_flat)\n",
        "\n",
        "        # Initialize MSE to zero\n",
        "        mse = np.zeros(1, dtype=np.float32)\n",
        "        cuda.memcpy_htod(mse_gpu, mse)\n",
        "\n",
        "        # Call CUDA kernel\n",
        "        self.compute_mse_kernel(\n",
        "            predictions_gpu, true_values_gpu, mse_gpu, np.int32(n),\n",
        "            block=(self.block_size, 1, 1),\n",
        "            grid=(grid_size, 1)\n",
        "        )\n",
        "\n",
        "        # Copy result back to host\n",
        "        cuda.memcpy_dtoh(mse, mse_gpu)\n",
        "\n",
        "        return mse[0]"
      ]
    },
    {
      "cell_type": "code",
      "execution_count": 60,
      "metadata": {
        "id": "kr9_NNq7fEcn"
      },
      "outputs": [],
      "source": [
        "def average_models(model, other_models):\n",
        "        import numpy as np\n",
        "        # Get weights from all models\n",
        "        models = [model] + other_models\n",
        "        weights = [m.get_weights() for m in models]\n",
        "        new_weights = []\n",
        "        for weights_list_tuple in zip(*weights):\n",
        "            new_weights.append(\n",
        "                np.array([np.array(w).astype(np.float32) for w in weights_list_tuple]).mean(axis=0)\n",
        "            )\n",
        "        # Set averaged weights to the model\n",
        "        model.set_weights(new_weights)\n",
        "        print(\"Model weights averaged.\")\n",
        "        return model"
      ]
    },
    {
      "cell_type": "code",
      "execution_count": 61,
      "metadata": {
        "id": "sR_NFmETtgt-"
      },
      "outputs": [],
      "source": [
        "def save_model_to_s3(model, s3_client, bucket_name, model_key):\n",
        "    \"\"\"\n",
        "    Save model to S3 with improved error handling\n",
        "\n",
        "    Args:\n",
        "        model (tf.keras.Model): Model to save\n",
        "        s3_client (boto3.client): S3 client\n",
        "        bucket_name (str): S3 bucket name\n",
        "        model_key (str): S3 object key\n",
        "    \"\"\"\n",
        "    try:\n",
        "        # Save model in newer Keras format\n",
        "        local_path = 'local_model.keras'\n",
        "        model.save(local_path, save_format='keras')\n",
        "\n",
        "        # Upload to S3 with explicit error handling\n",
        "        try:\n",
        "            s3_client.upload_file(local_path, bucket_name, model_key)\n",
        "            print(f\"Model saved to S3 bucket '{bucket_name}' with key '{model_key}'.\")\n",
        "        except Exception as upload_error:\n",
        "            print(f\"S3 Upload Error: {upload_error}\")\n",
        "            print(\"Credentials or permissions might be incorrect.\")\n",
        "\n",
        "            # Additional debugging information\n",
        "            try:\n",
        "                # Check bucket existence\n",
        "                s3_client.head_bucket(Bucket=bucket_name)\n",
        "                print(f\"Bucket {bucket_name} exists.\")\n",
        "            except Exception as bucket_error:\n",
        "                print(f\"Bucket access error: {bucket_error}\")\n",
        "\n",
        "            # List buckets to verify credentials\n",
        "            try:\n",
        "                buckets = s3_client.list_buckets()\n",
        "                print(\"Available buckets:\")\n",
        "                for bucket in buckets['Buckets']:\n",
        "                    print(f\"- {bucket['Name']}\")\n",
        "            except Exception as list_error:\n",
        "                print(f\"Error listing buckets: {list_error}\")\n",
        "\n",
        "    except Exception as save_error:\n",
        "        print(f\"Model save error: {save_error}\")\n",
        "\n",
        "def load_model_from_s3(s3_client, bucket_name, model_key):\n",
        "    \"\"\"\n",
        "    Load model from S3 with improved error handling\n",
        "\n",
        "    Args:\n",
        "        s3_client (boto3.client): S3 client\n",
        "        bucket_name (str): S3 bucket name\n",
        "        model_key (str): S3 object key\n",
        "\n",
        "    Returns:\n",
        "        tf.keras.Model: Loaded model\n",
        "    \"\"\"\n",
        "    try:\n",
        "        local_path = 'downloaded_model.keras'\n",
        "\n",
        "        # Download with explicit error handling\n",
        "        try:\n",
        "            s3_client.download_file(bucket_name, model_key, local_path)\n",
        "        except Exception as download_error:\n",
        "            print(f\"S3 Download Error: {download_error}\")\n",
        "            print(\"Check if the object key is correct and you have read permissions.\")\n",
        "            raise\n",
        "\n",
        "        # Load model\n",
        "        model = tf.keras.models.load_model(local_path)\n",
        "        print(f\"Model loaded from S3 bucket '{bucket_name}' with key '{model_key}'.\")\n",
        "        return model\n",
        "\n",
        "    except Exception as load_error:\n",
        "        print(f\"Model load error: {load_error}\")\n",
        "        raise\n",
        "\n",
        "def verify_s3_credentials(s3_client):\n",
        "    \"\"\"\n",
        "    Verify AWS S3 credentials and access\n",
        "\n",
        "    Args:\n",
        "        s3_client (boto3.client): S3 client\n",
        "\n",
        "    Returns:\n",
        "        bool: True if credentials are valid, False otherwise\n",
        "    \"\"\"\n",
        "    try:\n",
        "        # List buckets to verify credentials\n",
        "        buckets = s3_client.list_buckets()\n",
        "        print(\"S3 Credentials Verified. Available buckets:\")\n",
        "        for bucket in buckets['Buckets']:\n",
        "            print(f\"- {bucket['Name']}\")\n",
        "        return True\n",
        "    except Exception as e:\n",
        "        print(f\"Credential Verification Failed: {e}\")\n",
        "        return False\n",
        "\n",
        "class PyCUDASynchronizationCallback(tf.keras.callbacks.Callback):\n",
        "    def __init__(self,\n",
        "                 worker_id,\n",
        "                 s3_client,\n",
        "                 bucket_name,\n",
        "                 sync_epochs=5,\n",
        "                 mse_computer=None):\n",
        "        \"\"\"\n",
        "        Initialize synchronization callback with S3 integration\n",
        "\n",
        "        Args:\n",
        "            worker_id (str): Unique identifier for the worker\n",
        "            s3_client (boto3.client): S3 client\n",
        "            bucket_name (str): S3 bucket name\n",
        "            sync_epochs (int): Frequency of model synchronization\n",
        "            mse_computer (PyCUDAMSEComputer): MSE computation object\n",
        "        \"\"\"\n",
        "        super().__init__()\n",
        "        self.worker_id = worker_id\n",
        "        self.s3_client = s3_client\n",
        "        self.bucket_name = bucket_name\n",
        "        self.sync_epochs = sync_epochs\n",
        "        self.mse_computer = mse_computer or PyCUDAMSEComputer()\n",
        "\n",
        "    def on_epoch_end(self, epoch, logs=None):\n",
        "        \"\"\"\n",
        "        Callback method for epoch end with S3 synchronization\n",
        "\n",
        "        Args:\n",
        "            epoch (int): Current training epoch\n",
        "            logs (dict): Logs from the training process\n",
        "        \"\"\"\n",
        "        if (epoch + 1) % self.sync_epochs == 0:\n",
        "            print(f\"Epoch {epoch+1}: Synchronizing models.\")\n",
        "\n",
        "            # Compute GPU-accelerated MSE\n",
        "            predictions = self.model.predict(x_train)\n",
        "            gpu_mse = self.mse_computer.compute_mse_gpu(predictions, y_train)\n",
        "            print(f\"GPU-Accelerated MSE at epoch {epoch+1}: {gpu_mse}\")\n",
        "\n",
        "            # Save current model to S3\n",
        "            model_key = f\"model_checkpoints/{self.worker_id}_epoch_{epoch+1}.keras\"\n",
        "            save_model_to_s3(self.model, self.s3_client, self.bucket_name, model_key)\n",
        "\n",
        "            # List and process other models\n",
        "            try:\n",
        "                response = self.s3_client.list_objects_v2(\n",
        "                    Bucket=self.bucket_name,\n",
        "                    Prefix='model_checkpoints/'\n",
        "                )\n",
        "\n",
        "                other_model_keys = [\n",
        "                    obj['Key'] for obj in response.get('Contents', [])\n",
        "                    if self.worker_id not in obj['Key'] and f\"epoch_{epoch+1}\" in obj['Key']\n",
        "                ]\n",
        "\n",
        "                other_models = []\n",
        "                for other_model_key in other_model_keys:\n",
        "                    other_model = load_model_from_s3(\n",
        "                        self.s3_client,\n",
        "                        self.bucket_name,\n",
        "                        other_model_key\n",
        "                    )\n",
        "                    other_models.append(other_model)\n",
        "\n",
        "                if other_models:\n",
        "                    average_models(self.model, other_models)\n",
        "                    print(f\"Models synchronized at epoch {epoch+1}.\")\n",
        "\n",
        "                    averaged_model_key = f\"model_checkpoints/averaged_epoch_{epoch+1}.keras\"\n",
        "                    save_model_to_s3(self.model, self.s3_client, self.bucket_name, averaged_model_key)\n",
        "                else:\n",
        "                    print(\"No other models found for synchronization.\")\n",
        "\n",
        "            except Exception as sync_error:\n",
        "                print(f\"Synchronization error: {sync_error}\")\n"
      ]
    },
    {
      "cell_type": "code",
      "execution_count": 64,
      "metadata": {
        "colab": {
          "base_uri": "https://localhost:8080/"
        },
        "id": "W6a6URjKtk5S",
        "outputId": "9dd780b4-0ffc-4249-c633-8f6493b51530"
      },
      "outputs": [
        {
          "name": "stdout",
          "output_type": "stream",
          "text": [
            "S3 Credentials Verified. Available buckets:\n",
            "- aws-cloudtrail-logs-657762149587-de790a22\n",
            "- aws-cloudtrail-logs-657762149587-fc1656ec\n",
            "- myhpcbucket-160903\n",
            "Epoch 1/100\n",
            "\u001b[1m125/125\u001b[0m \u001b[32m━━━━━━━━━━━━━━━━━━━━\u001b[0m\u001b[37m\u001b[0m \u001b[1m20s\u001b[0m 85ms/step - loss: 0.0051\n",
            "Epoch 2/100\n",
            "\u001b[1m125/125\u001b[0m \u001b[32m━━━━━━━━━━━━━━━━━━━━\u001b[0m\u001b[37m\u001b[0m \u001b[1m6s\u001b[0m 44ms/step - loss: 0.0039\n",
            "Epoch 3/100\n",
            "\u001b[1m125/125\u001b[0m \u001b[32m━━━━━━━━━━━━━━━━━━━━\u001b[0m\u001b[37m\u001b[0m \u001b[1m6s\u001b[0m 46ms/step - loss: 0.0031\n",
            "Epoch 4/100\n",
            "\u001b[1m125/125\u001b[0m \u001b[32m━━━━━━━━━━━━━━━━━━━━\u001b[0m\u001b[37m\u001b[0m \u001b[1m5s\u001b[0m 44ms/step - loss: 0.0034\n",
            "Epoch 5/100\n",
            "\u001b[1m125/125\u001b[0m \u001b[32m━━━━━━━━━━━━━━━━━━━━\u001b[0m\u001b[37m\u001b[0m \u001b[1m0s\u001b[0m 49ms/step - loss: 0.0030Epoch 5: Synchronizing models.\n",
            "\u001b[1m125/125\u001b[0m \u001b[32m━━━━━━━━━━━━━━━━━━━━\u001b[0m\u001b[37m\u001b[0m \u001b[1m4s\u001b[0m 21ms/step\n"
          ]
        },
        {
          "name": "stderr",
          "output_type": "stream",
          "text": [
            "WARNING:absl:The `save_format` argument is deprecated in Keras 3. We recommend removing this argument as it can be inferred from the file path. Received: save_format=keras\n"
          ]
        },
        {
          "name": "stdout",
          "output_type": "stream",
          "text": [
            "GPU-Accelerated MSE at epoch 5: 0.0014366857940331101\n",
            "Model saved to S3 bucket 'myhpcbucket-160903' with key 'model_checkpoints/worker_0_epoch_5.keras'.\n",
            "Model loaded from S3 bucket 'myhpcbucket-160903' with key 'model_checkpoints/worker_5_epoch_5.keras'.\n",
            "Model loaded from S3 bucket 'myhpcbucket-160903' with key 'model_checkpoints/worker_5_epoch_50.keras'.\n"
          ]
        },
        {
          "name": "stderr",
          "output_type": "stream",
          "text": [
            "WARNING:absl:The `save_format` argument is deprecated in Keras 3. We recommend removing this argument as it can be inferred from the file path. Received: save_format=keras\n"
          ]
        },
        {
          "name": "stdout",
          "output_type": "stream",
          "text": [
            "Model loaded from S3 bucket 'myhpcbucket-160903' with key 'model_checkpoints/worker_5_epoch_55.keras'.\n",
            "Model weights averaged.\n",
            "Models synchronized at epoch 5.\n",
            "Model saved to S3 bucket 'myhpcbucket-160903' with key 'model_checkpoints/averaged_epoch_5.keras'.\n",
            "\u001b[1m125/125\u001b[0m \u001b[32m━━━━━━━━━━━━━━━━━━━━\u001b[0m\u001b[37m\u001b[0m \u001b[1m14s\u001b[0m 114ms/step - loss: 0.0030\n",
            "Epoch 6/100\n",
            "\u001b[1m125/125\u001b[0m \u001b[32m━━━━━━━━━━━━━━━━━━━━\u001b[0m\u001b[37m\u001b[0m \u001b[1m12s\u001b[0m 45ms/step - loss: 0.0128\n",
            "Epoch 7/100\n",
            "\u001b[1m125/125\u001b[0m \u001b[32m━━━━━━━━━━━━━━━━━━━━\u001b[0m\u001b[37m\u001b[0m \u001b[1m10s\u001b[0m 46ms/step - loss: 0.0024\n",
            "Epoch 8/100\n",
            "\u001b[1m125/125\u001b[0m \u001b[32m━━━━━━━━━━━━━━━━━━━━\u001b[0m\u001b[37m\u001b[0m \u001b[1m6s\u001b[0m 46ms/step - loss: 0.0021\n",
            "Epoch 9/100\n",
            "\u001b[1m125/125\u001b[0m \u001b[32m━━━━━━━━━━━━━━━━━━━━\u001b[0m\u001b[37m\u001b[0m \u001b[1m5s\u001b[0m 43ms/step - loss: 0.0018\n",
            "Epoch 10/100\n",
            "\u001b[1m125/125\u001b[0m \u001b[32m━━━━━━━━━━━━━━━━━━━━\u001b[0m\u001b[37m\u001b[0m \u001b[1m0s\u001b[0m 45ms/step - loss: 0.0021Epoch 10: Synchronizing models.\n",
            "\u001b[1m125/125\u001b[0m \u001b[32m━━━━━━━━━━━━━━━━━━━━\u001b[0m\u001b[37m\u001b[0m \u001b[1m2s\u001b[0m 14ms/step\n"
          ]
        },
        {
          "name": "stderr",
          "output_type": "stream",
          "text": [
            "WARNING:absl:The `save_format` argument is deprecated in Keras 3. We recommend removing this argument as it can be inferred from the file path. Received: save_format=keras\n"
          ]
        },
        {
          "name": "stdout",
          "output_type": "stream",
          "text": [
            "GPU-Accelerated MSE at epoch 10: 0.0004446375241968781\n",
            "Model saved to S3 bucket 'myhpcbucket-160903' with key 'model_checkpoints/worker_0_epoch_10.keras'.\n",
            "Model loaded from S3 bucket 'myhpcbucket-160903' with key 'model_checkpoints/worker_5_epoch_10.keras'.\n"
          ]
        },
        {
          "name": "stderr",
          "output_type": "stream",
          "text": [
            "WARNING:absl:The `save_format` argument is deprecated in Keras 3. We recommend removing this argument as it can be inferred from the file path. Received: save_format=keras\n"
          ]
        },
        {
          "name": "stdout",
          "output_type": "stream",
          "text": [
            "Model loaded from S3 bucket 'myhpcbucket-160903' with key 'model_checkpoints/worker_5_epoch_100.keras'.\n",
            "Model weights averaged.\n",
            "Models synchronized at epoch 10.\n",
            "Model saved to S3 bucket 'myhpcbucket-160903' with key 'model_checkpoints/averaged_epoch_10.keras'.\n",
            "\u001b[1m125/125\u001b[0m \u001b[32m━━━━━━━━━━━━━━━━━━━━\u001b[0m\u001b[37m\u001b[0m \u001b[1m17s\u001b[0m 95ms/step - loss: 0.0021\n",
            "Epoch 11/100\n",
            "\u001b[1m125/125\u001b[0m \u001b[32m━━━━━━━━━━━━━━━━━━━━\u001b[0m\u001b[37m\u001b[0m \u001b[1m15s\u001b[0m 52ms/step - loss: 0.0089\n",
            "Epoch 12/100\n",
            "\u001b[1m125/125\u001b[0m \u001b[32m━━━━━━━━━━━━━━━━━━━━\u001b[0m\u001b[37m\u001b[0m \u001b[1m5s\u001b[0m 43ms/step - loss: 0.0026\n",
            "Epoch 13/100\n",
            "\u001b[1m125/125\u001b[0m \u001b[32m━━━━━━━━━━━━━━━━━━━━\u001b[0m\u001b[37m\u001b[0m \u001b[1m10s\u001b[0m 44ms/step - loss: 0.0020\n",
            "Epoch 14/100\n",
            "\u001b[1m125/125\u001b[0m \u001b[32m━━━━━━━━━━━━━━━━━━━━\u001b[0m\u001b[37m\u001b[0m \u001b[1m6s\u001b[0m 45ms/step - loss: 0.0022\n",
            "Epoch 15/100\n",
            "\u001b[1m124/125\u001b[0m \u001b[32m━━━━━━━━━━━━━━━━━━━\u001b[0m\u001b[37m━\u001b[0m \u001b[1m0s\u001b[0m 45ms/step - loss: 0.0021Epoch 15: Synchronizing models.\n",
            "\u001b[1m125/125\u001b[0m \u001b[32m━━━━━━━━━━━━━━━━━━━━\u001b[0m\u001b[37m\u001b[0m \u001b[1m2s\u001b[0m 18ms/step\n"
          ]
        },
        {
          "name": "stderr",
          "output_type": "stream",
          "text": [
            "WARNING:absl:The `save_format` argument is deprecated in Keras 3. We recommend removing this argument as it can be inferred from the file path. Received: save_format=keras\n"
          ]
        },
        {
          "name": "stdout",
          "output_type": "stream",
          "text": [
            "GPU-Accelerated MSE at epoch 15: 0.00047230496420525014\n",
            "Model saved to S3 bucket 'myhpcbucket-160903' with key 'model_checkpoints/worker_0_epoch_15.keras'.\n"
          ]
        },
        {
          "name": "stderr",
          "output_type": "stream",
          "text": [
            "WARNING:absl:The `save_format` argument is deprecated in Keras 3. We recommend removing this argument as it can be inferred from the file path. Received: save_format=keras\n"
          ]
        },
        {
          "name": "stdout",
          "output_type": "stream",
          "text": [
            "Model loaded from S3 bucket 'myhpcbucket-160903' with key 'model_checkpoints/worker_5_epoch_15.keras'.\n",
            "Model weights averaged.\n",
            "Models synchronized at epoch 15.\n",
            "Model saved to S3 bucket 'myhpcbucket-160903' with key 'model_checkpoints/averaged_epoch_15.keras'.\n",
            "\u001b[1m125/125\u001b[0m \u001b[32m━━━━━━━━━━━━━━━━━━━━\u001b[0m\u001b[37m\u001b[0m \u001b[1m16s\u001b[0m 91ms/step - loss: 0.0021\n",
            "Epoch 16/100\n",
            "\u001b[1m125/125\u001b[0m \u001b[32m━━━━━━━━━━━━━━━━━━━━\u001b[0m\u001b[37m\u001b[0m \u001b[1m6s\u001b[0m 45ms/step - loss: 0.0030\n",
            "Epoch 17/100\n",
            "\u001b[1m125/125\u001b[0m \u001b[32m━━━━━━━━━━━━━━━━━━━━\u001b[0m\u001b[37m\u001b[0m \u001b[1m6s\u001b[0m 46ms/step - loss: 0.0019\n",
            "Epoch 18/100\n",
            "\u001b[1m125/125\u001b[0m \u001b[32m━━━━━━━━━━━━━━━━━━━━\u001b[0m\u001b[37m\u001b[0m \u001b[1m5s\u001b[0m 44ms/step - loss: 0.0019\n",
            "Epoch 19/100\n",
            "\u001b[1m125/125\u001b[0m \u001b[32m━━━━━━━━━━━━━━━━━━━━\u001b[0m\u001b[37m\u001b[0m \u001b[1m6s\u001b[0m 47ms/step - loss: 0.0019\n",
            "Epoch 20/100\n",
            "\u001b[1m124/125\u001b[0m \u001b[32m━━━━━━━━━━━━━━━━━━━\u001b[0m\u001b[37m━\u001b[0m \u001b[1m0s\u001b[0m 45ms/step - loss: 0.0016Epoch 20: Synchronizing models.\n",
            "\u001b[1m125/125\u001b[0m \u001b[32m━━━━━━━━━━━━━━━━━━━━\u001b[0m\u001b[37m\u001b[0m \u001b[1m2s\u001b[0m 19ms/step\n"
          ]
        },
        {
          "name": "stderr",
          "output_type": "stream",
          "text": [
            "WARNING:absl:The `save_format` argument is deprecated in Keras 3. We recommend removing this argument as it can be inferred from the file path. Received: save_format=keras\n"
          ]
        },
        {
          "name": "stdout",
          "output_type": "stream",
          "text": [
            "GPU-Accelerated MSE at epoch 20: 0.0008592837839387357\n",
            "Model saved to S3 bucket 'myhpcbucket-160903' with key 'model_checkpoints/worker_0_epoch_20.keras'.\n"
          ]
        },
        {
          "name": "stderr",
          "output_type": "stream",
          "text": [
            "WARNING:absl:The `save_format` argument is deprecated in Keras 3. We recommend removing this argument as it can be inferred from the file path. Received: save_format=keras\n"
          ]
        },
        {
          "name": "stdout",
          "output_type": "stream",
          "text": [
            "Model loaded from S3 bucket 'myhpcbucket-160903' with key 'model_checkpoints/worker_5_epoch_20.keras'.\n",
            "Model weights averaged.\n",
            "Models synchronized at epoch 20.\n",
            "Model saved to S3 bucket 'myhpcbucket-160903' with key 'model_checkpoints/averaged_epoch_20.keras'.\n",
            "\u001b[1m125/125\u001b[0m \u001b[32m━━━━━━━━━━━━━━━━━━━━\u001b[0m\u001b[37m\u001b[0m \u001b[1m16s\u001b[0m 92ms/step - loss: 0.0016\n",
            "Epoch 21/100\n",
            "\u001b[1m125/125\u001b[0m \u001b[32m━━━━━━━━━━━━━━━━━━━━\u001b[0m\u001b[37m\u001b[0m \u001b[1m15s\u001b[0m 45ms/step - loss: 0.0021\n",
            "Epoch 22/100\n",
            "\u001b[1m125/125\u001b[0m \u001b[32m━━━━━━━━━━━━━━━━━━━━\u001b[0m\u001b[37m\u001b[0m \u001b[1m10s\u001b[0m 46ms/step - loss: 0.0020\n",
            "Epoch 23/100\n",
            "\u001b[1m125/125\u001b[0m \u001b[32m━━━━━━━━━━━━━━━━━━━━\u001b[0m\u001b[37m\u001b[0m \u001b[1m10s\u001b[0m 48ms/step - loss: 0.0017\n",
            "Epoch 24/100\n",
            "\u001b[1m125/125\u001b[0m \u001b[32m━━━━━━━━━━━━━━━━━━━━\u001b[0m\u001b[37m\u001b[0m \u001b[1m10s\u001b[0m 46ms/step - loss: 0.0015\n",
            "Epoch 25/100\n",
            "\u001b[1m125/125\u001b[0m \u001b[32m━━━━━━━━━━━━━━━━━━━━\u001b[0m\u001b[37m\u001b[0m \u001b[1m0s\u001b[0m 45ms/step - loss: 0.0016Epoch 25: Synchronizing models.\n",
            "\u001b[1m125/125\u001b[0m \u001b[32m━━━━━━━━━━━━━━━━━━━━\u001b[0m\u001b[37m\u001b[0m \u001b[1m2s\u001b[0m 19ms/step\n"
          ]
        },
        {
          "name": "stderr",
          "output_type": "stream",
          "text": [
            "WARNING:absl:The `save_format` argument is deprecated in Keras 3. We recommend removing this argument as it can be inferred from the file path. Received: save_format=keras\n"
          ]
        },
        {
          "name": "stdout",
          "output_type": "stream",
          "text": [
            "GPU-Accelerated MSE at epoch 25: 0.0018807674059644341\n",
            "Model saved to S3 bucket 'myhpcbucket-160903' with key 'model_checkpoints/worker_0_epoch_25.keras'.\n"
          ]
        },
        {
          "name": "stderr",
          "output_type": "stream",
          "text": [
            "WARNING:absl:The `save_format` argument is deprecated in Keras 3. We recommend removing this argument as it can be inferred from the file path. Received: save_format=keras\n"
          ]
        },
        {
          "name": "stdout",
          "output_type": "stream",
          "text": [
            "Model loaded from S3 bucket 'myhpcbucket-160903' with key 'model_checkpoints/worker_5_epoch_25.keras'.\n",
            "Model weights averaged.\n",
            "Models synchronized at epoch 25.\n",
            "Model saved to S3 bucket 'myhpcbucket-160903' with key 'model_checkpoints/averaged_epoch_25.keras'.\n",
            "\u001b[1m125/125\u001b[0m \u001b[32m━━━━━━━━━━━━━━━━━━━━\u001b[0m\u001b[37m\u001b[0m \u001b[1m16s\u001b[0m 91ms/step - loss: 0.0016\n",
            "Epoch 26/100\n",
            "\u001b[1m125/125\u001b[0m \u001b[32m━━━━━━━━━━━━━━━━━━━━\u001b[0m\u001b[37m\u001b[0m \u001b[1m6s\u001b[0m 45ms/step - loss: 0.0019\n",
            "Epoch 27/100\n",
            "\u001b[1m125/125\u001b[0m \u001b[32m━━━━━━━━━━━━━━━━━━━━\u001b[0m\u001b[37m\u001b[0m \u001b[1m6s\u001b[0m 48ms/step - loss: 0.0016\n",
            "Epoch 28/100\n",
            "\u001b[1m125/125\u001b[0m \u001b[32m━━━━━━━━━━━━━━━━━━━━\u001b[0m\u001b[37m\u001b[0m \u001b[1m10s\u001b[0m 47ms/step - loss: 0.0019\n",
            "Epoch 29/100\n",
            "\u001b[1m125/125\u001b[0m \u001b[32m━━━━━━━━━━━━━━━━━━━━\u001b[0m\u001b[37m\u001b[0m \u001b[1m10s\u001b[0m 45ms/step - loss: 0.0018\n",
            "Epoch 30/100\n",
            "\u001b[1m125/125\u001b[0m \u001b[32m━━━━━━━━━━━━━━━━━━━━\u001b[0m\u001b[37m\u001b[0m \u001b[1m0s\u001b[0m 45ms/step - loss: 0.0016Epoch 30: Synchronizing models.\n",
            "\u001b[1m125/125\u001b[0m \u001b[32m━━━━━━━━━━━━━━━━━━━━\u001b[0m\u001b[37m\u001b[0m \u001b[1m2s\u001b[0m 14ms/step\n"
          ]
        },
        {
          "name": "stderr",
          "output_type": "stream",
          "text": [
            "WARNING:absl:The `save_format` argument is deprecated in Keras 3. We recommend removing this argument as it can be inferred from the file path. Received: save_format=keras\n"
          ]
        },
        {
          "name": "stdout",
          "output_type": "stream",
          "text": [
            "GPU-Accelerated MSE at epoch 30: 0.002055772114545107\n",
            "Model saved to S3 bucket 'myhpcbucket-160903' with key 'model_checkpoints/worker_0_epoch_30.keras'.\n"
          ]
        },
        {
          "name": "stderr",
          "output_type": "stream",
          "text": [
            "WARNING:absl:The `save_format` argument is deprecated in Keras 3. We recommend removing this argument as it can be inferred from the file path. Received: save_format=keras\n"
          ]
        },
        {
          "name": "stdout",
          "output_type": "stream",
          "text": [
            "Model loaded from S3 bucket 'myhpcbucket-160903' with key 'model_checkpoints/worker_5_epoch_30.keras'.\n",
            "Model weights averaged.\n",
            "Models synchronized at epoch 30.\n",
            "Model saved to S3 bucket 'myhpcbucket-160903' with key 'model_checkpoints/averaged_epoch_30.keras'.\n",
            "\u001b[1m125/125\u001b[0m \u001b[32m━━━━━━━━━━━━━━━━━━━━\u001b[0m\u001b[37m\u001b[0m \u001b[1m15s\u001b[0m 86ms/step - loss: 0.0016\n",
            "Epoch 31/100\n",
            "\u001b[1m125/125\u001b[0m \u001b[32m━━━━━━━━━━━━━━━━━━━━\u001b[0m\u001b[37m\u001b[0m \u001b[1m15s\u001b[0m 46ms/step - loss: 0.0017\n",
            "Epoch 32/100\n",
            "\u001b[1m125/125\u001b[0m \u001b[32m━━━━━━━━━━━━━━━━━━━━\u001b[0m\u001b[37m\u001b[0m \u001b[1m10s\u001b[0m 47ms/step - loss: 0.0016\n",
            "Epoch 33/100\n",
            "\u001b[1m125/125\u001b[0m \u001b[32m━━━━━━━━━━━━━━━━━━━━\u001b[0m\u001b[37m\u001b[0m \u001b[1m6s\u001b[0m 44ms/step - loss: 0.0017\n",
            "Epoch 34/100\n",
            "\u001b[1m125/125\u001b[0m \u001b[32m━━━━━━━━━━━━━━━━━━━━\u001b[0m\u001b[37m\u001b[0m \u001b[1m10s\u001b[0m 45ms/step - loss: 0.0015\n",
            "Epoch 35/100\n",
            "\u001b[1m125/125\u001b[0m \u001b[32m━━━━━━━━━━━━━━━━━━━━\u001b[0m\u001b[37m\u001b[0m \u001b[1m0s\u001b[0m 46ms/step - loss: 0.0015Epoch 35: Synchronizing models.\n",
            "\u001b[1m125/125\u001b[0m \u001b[32m━━━━━━━━━━━━━━━━━━━━\u001b[0m\u001b[37m\u001b[0m \u001b[1m2s\u001b[0m 15ms/step\n"
          ]
        },
        {
          "name": "stderr",
          "output_type": "stream",
          "text": [
            "WARNING:absl:The `save_format` argument is deprecated in Keras 3. We recommend removing this argument as it can be inferred from the file path. Received: save_format=keras\n"
          ]
        },
        {
          "name": "stdout",
          "output_type": "stream",
          "text": [
            "GPU-Accelerated MSE at epoch 35: 0.001873823581263423\n",
            "Model saved to S3 bucket 'myhpcbucket-160903' with key 'model_checkpoints/worker_0_epoch_35.keras'.\n"
          ]
        },
        {
          "name": "stderr",
          "output_type": "stream",
          "text": [
            "WARNING:absl:The `save_format` argument is deprecated in Keras 3. We recommend removing this argument as it can be inferred from the file path. Received: save_format=keras\n"
          ]
        },
        {
          "name": "stdout",
          "output_type": "stream",
          "text": [
            "Model loaded from S3 bucket 'myhpcbucket-160903' with key 'model_checkpoints/worker_5_epoch_35.keras'.\n",
            "Model weights averaged.\n",
            "Models synchronized at epoch 35.\n",
            "Model saved to S3 bucket 'myhpcbucket-160903' with key 'model_checkpoints/averaged_epoch_35.keras'.\n",
            "\u001b[1m125/125\u001b[0m \u001b[32m━━━━━━━━━━━━━━━━━━━━\u001b[0m\u001b[37m\u001b[0m \u001b[1m12s\u001b[0m 93ms/step - loss: 0.0015\n",
            "Epoch 36/100\n",
            "\u001b[1m125/125\u001b[0m \u001b[32m━━━━━━━━━━━━━━━━━━━━\u001b[0m\u001b[37m\u001b[0m \u001b[1m6s\u001b[0m 46ms/step - loss: 0.0016\n",
            "Epoch 37/100\n",
            "\u001b[1m125/125\u001b[0m \u001b[32m━━━━━━━━━━━━━━━━━━━━\u001b[0m\u001b[37m\u001b[0m \u001b[1m6s\u001b[0m 44ms/step - loss: 0.0015\n",
            "Epoch 38/100\n",
            "\u001b[1m125/125\u001b[0m \u001b[32m━━━━━━━━━━━━━━━━━━━━\u001b[0m\u001b[37m\u001b[0m \u001b[1m11s\u001b[0m 47ms/step - loss: 0.0016\n",
            "Epoch 39/100\n",
            "\u001b[1m125/125\u001b[0m \u001b[32m━━━━━━━━━━━━━━━━━━━━\u001b[0m\u001b[37m\u001b[0m \u001b[1m6s\u001b[0m 44ms/step - loss: 0.0016\n",
            "Epoch 40/100\n",
            "\u001b[1m125/125\u001b[0m \u001b[32m━━━━━━━━━━━━━━━━━━━━\u001b[0m\u001b[37m\u001b[0m \u001b[1m0s\u001b[0m 45ms/step - loss: 0.0017Epoch 40: Synchronizing models.\n",
            "\u001b[1m125/125\u001b[0m \u001b[32m━━━━━━━━━━━━━━━━━━━━\u001b[0m\u001b[37m\u001b[0m \u001b[1m2s\u001b[0m 14ms/step\n"
          ]
        },
        {
          "name": "stderr",
          "output_type": "stream",
          "text": [
            "WARNING:absl:The `save_format` argument is deprecated in Keras 3. We recommend removing this argument as it can be inferred from the file path. Received: save_format=keras\n"
          ]
        },
        {
          "name": "stdout",
          "output_type": "stream",
          "text": [
            "GPU-Accelerated MSE at epoch 40: 0.0031303148716688156\n",
            "Model saved to S3 bucket 'myhpcbucket-160903' with key 'model_checkpoints/worker_0_epoch_40.keras'.\n"
          ]
        },
        {
          "name": "stderr",
          "output_type": "stream",
          "text": [
            "WARNING:absl:The `save_format` argument is deprecated in Keras 3. We recommend removing this argument as it can be inferred from the file path. Received: save_format=keras\n"
          ]
        },
        {
          "name": "stdout",
          "output_type": "stream",
          "text": [
            "Model loaded from S3 bucket 'myhpcbucket-160903' with key 'model_checkpoints/worker_5_epoch_40.keras'.\n",
            "Model weights averaged.\n",
            "Models synchronized at epoch 40.\n",
            "Model saved to S3 bucket 'myhpcbucket-160903' with key 'model_checkpoints/averaged_epoch_40.keras'.\n",
            "\u001b[1m125/125\u001b[0m \u001b[32m━━━━━━━━━━━━━━━━━━━━\u001b[0m\u001b[37m\u001b[0m \u001b[1m16s\u001b[0m 90ms/step - loss: 0.0017\n",
            "Epoch 41/100\n",
            "\u001b[1m125/125\u001b[0m \u001b[32m━━━━━━━━━━━━━━━━━━━━\u001b[0m\u001b[37m\u001b[0m \u001b[1m6s\u001b[0m 45ms/step - loss: 0.0014\n",
            "Epoch 42/100\n",
            "\u001b[1m125/125\u001b[0m \u001b[32m━━━━━━━━━━━━━━━━━━━━\u001b[0m\u001b[37m\u001b[0m \u001b[1m6s\u001b[0m 45ms/step - loss: 0.0015\n",
            "Epoch 43/100\n",
            "\u001b[1m125/125\u001b[0m \u001b[32m━━━━━━━━━━━━━━━━━━━━\u001b[0m\u001b[37m\u001b[0m \u001b[1m6s\u001b[0m 44ms/step - loss: 0.0016\n",
            "Epoch 44/100\n",
            "\u001b[1m125/125\u001b[0m \u001b[32m━━━━━━━━━━━━━━━━━━━━\u001b[0m\u001b[37m\u001b[0m \u001b[1m6s\u001b[0m 44ms/step - loss: 0.0014\n",
            "Epoch 45/100\n",
            "\u001b[1m124/125\u001b[0m \u001b[32m━━━━━━━━━━━━━━━━━━━\u001b[0m\u001b[37m━\u001b[0m \u001b[1m0s\u001b[0m 46ms/step - loss: 0.0014Epoch 45: Synchronizing models.\n",
            "\u001b[1m125/125\u001b[0m \u001b[32m━━━━━━━━━━━━━━━━━━━━\u001b[0m\u001b[37m\u001b[0m \u001b[1m3s\u001b[0m 20ms/step\n"
          ]
        },
        {
          "name": "stderr",
          "output_type": "stream",
          "text": [
            "WARNING:absl:The `save_format` argument is deprecated in Keras 3. We recommend removing this argument as it can be inferred from the file path. Received: save_format=keras\n"
          ]
        },
        {
          "name": "stdout",
          "output_type": "stream",
          "text": [
            "GPU-Accelerated MSE at epoch 45: 0.0016279804985970259\n",
            "Model saved to S3 bucket 'myhpcbucket-160903' with key 'model_checkpoints/worker_0_epoch_45.keras'.\n"
          ]
        },
        {
          "name": "stderr",
          "output_type": "stream",
          "text": [
            "WARNING:absl:The `save_format` argument is deprecated in Keras 3. We recommend removing this argument as it can be inferred from the file path. Received: save_format=keras\n"
          ]
        },
        {
          "name": "stdout",
          "output_type": "stream",
          "text": [
            "Model loaded from S3 bucket 'myhpcbucket-160903' with key 'model_checkpoints/worker_5_epoch_45.keras'.\n",
            "Model weights averaged.\n",
            "Models synchronized at epoch 45.\n",
            "Model saved to S3 bucket 'myhpcbucket-160903' with key 'model_checkpoints/averaged_epoch_45.keras'.\n",
            "\u001b[1m125/125\u001b[0m \u001b[32m━━━━━━━━━━━━━━━━━━━━\u001b[0m\u001b[37m\u001b[0m \u001b[1m12s\u001b[0m 92ms/step - loss: 0.0014\n",
            "Epoch 46/100\n",
            "\u001b[1m125/125\u001b[0m \u001b[32m━━━━━━━━━━━━━━━━━━━━\u001b[0m\u001b[37m\u001b[0m \u001b[1m15s\u001b[0m 47ms/step - loss: 0.0014\n",
            "Epoch 47/100\n",
            "\u001b[1m125/125\u001b[0m \u001b[32m━━━━━━━━━━━━━━━━━━━━\u001b[0m\u001b[37m\u001b[0m \u001b[1m10s\u001b[0m 45ms/step - loss: 0.0014\n",
            "Epoch 48/100\n",
            "\u001b[1m125/125\u001b[0m \u001b[32m━━━━━━━━━━━━━━━━━━━━\u001b[0m\u001b[37m\u001b[0m \u001b[1m6s\u001b[0m 46ms/step - loss: 0.0014\n",
            "Epoch 49/100\n",
            "\u001b[1m125/125\u001b[0m \u001b[32m━━━━━━━━━━━━━━━━━━━━\u001b[0m\u001b[37m\u001b[0m \u001b[1m5s\u001b[0m 44ms/step - loss: 0.0016\n",
            "Epoch 50/100\n",
            "\u001b[1m124/125\u001b[0m \u001b[32m━━━━━━━━━━━━━━━━━━━\u001b[0m\u001b[37m━\u001b[0m \u001b[1m0s\u001b[0m 45ms/step - loss: 0.0015Epoch 50: Synchronizing models.\n",
            "\u001b[1m125/125\u001b[0m \u001b[32m━━━━━━━━━━━━━━━━━━━━\u001b[0m\u001b[37m\u001b[0m \u001b[1m2s\u001b[0m 14ms/step\n"
          ]
        },
        {
          "name": "stderr",
          "output_type": "stream",
          "text": [
            "WARNING:absl:The `save_format` argument is deprecated in Keras 3. We recommend removing this argument as it can be inferred from the file path. Received: save_format=keras\n"
          ]
        },
        {
          "name": "stdout",
          "output_type": "stream",
          "text": [
            "GPU-Accelerated MSE at epoch 50: 0.002429676242172718\n",
            "Model saved to S3 bucket 'myhpcbucket-160903' with key 'model_checkpoints/worker_0_epoch_50.keras'.\n"
          ]
        },
        {
          "name": "stderr",
          "output_type": "stream",
          "text": [
            "WARNING:absl:The `save_format` argument is deprecated in Keras 3. We recommend removing this argument as it can be inferred from the file path. Received: save_format=keras\n"
          ]
        },
        {
          "name": "stdout",
          "output_type": "stream",
          "text": [
            "Model loaded from S3 bucket 'myhpcbucket-160903' with key 'model_checkpoints/worker_5_epoch_50.keras'.\n",
            "Model weights averaged.\n",
            "Models synchronized at epoch 50.\n",
            "Model saved to S3 bucket 'myhpcbucket-160903' with key 'model_checkpoints/averaged_epoch_50.keras'.\n",
            "\u001b[1m125/125\u001b[0m \u001b[32m━━━━━━━━━━━━━━━━━━━━\u001b[0m\u001b[37m\u001b[0m \u001b[1m16s\u001b[0m 91ms/step - loss: 0.0015\n",
            "Epoch 51/100\n",
            "\u001b[1m125/125\u001b[0m \u001b[32m━━━━━━━━━━━━━━━━━━━━\u001b[0m\u001b[37m\u001b[0m \u001b[1m15s\u001b[0m 46ms/step - loss: 0.0016\n",
            "Epoch 52/100\n",
            "\u001b[1m125/125\u001b[0m \u001b[32m━━━━━━━━━━━━━━━━━━━━\u001b[0m\u001b[37m\u001b[0m \u001b[1m6s\u001b[0m 44ms/step - loss: 0.0013\n",
            "Epoch 53/100\n",
            "\u001b[1m125/125\u001b[0m \u001b[32m━━━━━━━━━━━━━━━━━━━━\u001b[0m\u001b[37m\u001b[0m \u001b[1m10s\u001b[0m 44ms/step - loss: 0.0014\n",
            "Epoch 54/100\n",
            "\u001b[1m125/125\u001b[0m \u001b[32m━━━━━━━━━━━━━━━━━━━━\u001b[0m\u001b[37m\u001b[0m \u001b[1m10s\u001b[0m 45ms/step - loss: 0.0016\n",
            "Epoch 55/100\n",
            "\u001b[1m125/125\u001b[0m \u001b[32m━━━━━━━━━━━━━━━━━━━━\u001b[0m\u001b[37m\u001b[0m \u001b[1m0s\u001b[0m 44ms/step - loss: 0.0015Epoch 55: Synchronizing models.\n",
            "\u001b[1m125/125\u001b[0m \u001b[32m━━━━━━━━━━━━━━━━━━━━\u001b[0m\u001b[37m\u001b[0m \u001b[1m2s\u001b[0m 14ms/step\n"
          ]
        },
        {
          "name": "stderr",
          "output_type": "stream",
          "text": [
            "WARNING:absl:The `save_format` argument is deprecated in Keras 3. We recommend removing this argument as it can be inferred from the file path. Received: save_format=keras\n"
          ]
        },
        {
          "name": "stdout",
          "output_type": "stream",
          "text": [
            "GPU-Accelerated MSE at epoch 55: 0.0020109887700527906\n",
            "Model saved to S3 bucket 'myhpcbucket-160903' with key 'model_checkpoints/worker_0_epoch_55.keras'.\n"
          ]
        },
        {
          "name": "stderr",
          "output_type": "stream",
          "text": [
            "WARNING:absl:The `save_format` argument is deprecated in Keras 3. We recommend removing this argument as it can be inferred from the file path. Received: save_format=keras\n"
          ]
        },
        {
          "name": "stdout",
          "output_type": "stream",
          "text": [
            "Model loaded from S3 bucket 'myhpcbucket-160903' with key 'model_checkpoints/worker_5_epoch_55.keras'.\n",
            "Model weights averaged.\n",
            "Models synchronized at epoch 55.\n",
            "Model saved to S3 bucket 'myhpcbucket-160903' with key 'model_checkpoints/averaged_epoch_55.keras'.\n",
            "\u001b[1m125/125\u001b[0m \u001b[32m━━━━━━━━━━━━━━━━━━━━\u001b[0m\u001b[37m\u001b[0m \u001b[1m15s\u001b[0m 87ms/step - loss: 0.0015\n",
            "Epoch 56/100\n",
            "\u001b[1m125/125\u001b[0m \u001b[32m━━━━━━━━━━━━━━━━━━━━\u001b[0m\u001b[37m\u001b[0m \u001b[1m16s\u001b[0m 47ms/step - loss: 0.0088\n",
            "Epoch 57/100\n",
            "\u001b[1m125/125\u001b[0m \u001b[32m━━━━━━━━━━━━━━━━━━━━\u001b[0m\u001b[37m\u001b[0m \u001b[1m10s\u001b[0m 47ms/step - loss: 0.0026\n",
            "Epoch 58/100\n",
            "\u001b[1m125/125\u001b[0m \u001b[32m━━━━━━━━━━━━━━━━━━━━\u001b[0m\u001b[37m\u001b[0m \u001b[1m6s\u001b[0m 44ms/step - loss: 0.0022\n",
            "Epoch 59/100\n",
            "\u001b[1m125/125\u001b[0m \u001b[32m━━━━━━━━━━━━━━━━━━━━\u001b[0m\u001b[37m\u001b[0m \u001b[1m6s\u001b[0m 45ms/step - loss: 0.0029\n",
            "Epoch 60/100\n",
            "\u001b[1m124/125\u001b[0m \u001b[32m━━━━━━━━━━━━━━━━━━━\u001b[0m\u001b[37m━\u001b[0m \u001b[1m0s\u001b[0m 45ms/step - loss: 0.0018Epoch 60: Synchronizing models.\n",
            "\u001b[1m125/125\u001b[0m \u001b[32m━━━━━━━━━━━━━━━━━━━━\u001b[0m\u001b[37m\u001b[0m \u001b[1m2s\u001b[0m 17ms/step\n"
          ]
        },
        {
          "name": "stderr",
          "output_type": "stream",
          "text": [
            "WARNING:absl:The `save_format` argument is deprecated in Keras 3. We recommend removing this argument as it can be inferred from the file path. Received: save_format=keras\n"
          ]
        },
        {
          "name": "stdout",
          "output_type": "stream",
          "text": [
            "GPU-Accelerated MSE at epoch 60: 0.0005847712745890021\n",
            "Model saved to S3 bucket 'myhpcbucket-160903' with key 'model_checkpoints/worker_0_epoch_60.keras'.\n"
          ]
        },
        {
          "name": "stderr",
          "output_type": "stream",
          "text": [
            "WARNING:absl:The `save_format` argument is deprecated in Keras 3. We recommend removing this argument as it can be inferred from the file path. Received: save_format=keras\n"
          ]
        },
        {
          "name": "stdout",
          "output_type": "stream",
          "text": [
            "Model loaded from S3 bucket 'myhpcbucket-160903' with key 'model_checkpoints/worker_5_epoch_60.keras'.\n",
            "Model weights averaged.\n",
            "Models synchronized at epoch 60.\n",
            "Model saved to S3 bucket 'myhpcbucket-160903' with key 'model_checkpoints/averaged_epoch_60.keras'.\n",
            "\u001b[1m125/125\u001b[0m \u001b[32m━━━━━━━━━━━━━━━━━━━━\u001b[0m\u001b[37m\u001b[0m \u001b[1m16s\u001b[0m 91ms/step - loss: 0.0018\n",
            "Epoch 61/100\n",
            "\u001b[1m125/125\u001b[0m \u001b[32m━━━━━━━━━━━━━━━━━━━━\u001b[0m\u001b[37m\u001b[0m \u001b[1m15s\u001b[0m 45ms/step - loss: 0.0034\n",
            "Epoch 62/100\n",
            "\u001b[1m125/125\u001b[0m \u001b[32m━━━━━━━━━━━━━━━━━━━━\u001b[0m\u001b[37m\u001b[0m \u001b[1m10s\u001b[0m 46ms/step - loss: 0.0018\n",
            "Epoch 63/100\n",
            "\u001b[1m125/125\u001b[0m \u001b[32m━━━━━━━━━━━━━━━━━━━━\u001b[0m\u001b[37m\u001b[0m \u001b[1m10s\u001b[0m 47ms/step - loss: 0.0017\n",
            "Epoch 64/100\n",
            "\u001b[1m125/125\u001b[0m \u001b[32m━━━━━━━━━━━━━━━━━━━━\u001b[0m\u001b[37m\u001b[0m \u001b[1m6s\u001b[0m 44ms/step - loss: 0.0017\n",
            "Epoch 65/100\n",
            "\u001b[1m125/125\u001b[0m \u001b[32m━━━━━━━━━━━━━━━━━━━━\u001b[0m\u001b[37m\u001b[0m \u001b[1m0s\u001b[0m 47ms/step - loss: 0.0016Epoch 65: Synchronizing models.\n",
            "\u001b[1m125/125\u001b[0m \u001b[32m━━━━━━━━━━━━━━━━━━━━\u001b[0m\u001b[37m\u001b[0m \u001b[1m2s\u001b[0m 19ms/step\n"
          ]
        },
        {
          "name": "stderr",
          "output_type": "stream",
          "text": [
            "WARNING:absl:The `save_format` argument is deprecated in Keras 3. We recommend removing this argument as it can be inferred from the file path. Received: save_format=keras\n"
          ]
        },
        {
          "name": "stdout",
          "output_type": "stream",
          "text": [
            "GPU-Accelerated MSE at epoch 65: 0.0010012115817517042\n",
            "Model saved to S3 bucket 'myhpcbucket-160903' with key 'model_checkpoints/worker_0_epoch_65.keras'.\n"
          ]
        },
        {
          "name": "stderr",
          "output_type": "stream",
          "text": [
            "WARNING:absl:The `save_format` argument is deprecated in Keras 3. We recommend removing this argument as it can be inferred from the file path. Received: save_format=keras\n"
          ]
        },
        {
          "name": "stdout",
          "output_type": "stream",
          "text": [
            "Model loaded from S3 bucket 'myhpcbucket-160903' with key 'model_checkpoints/worker_5_epoch_65.keras'.\n",
            "Model weights averaged.\n",
            "Models synchronized at epoch 65.\n",
            "Model saved to S3 bucket 'myhpcbucket-160903' with key 'model_checkpoints/averaged_epoch_65.keras'.\n",
            "\u001b[1m125/125\u001b[0m \u001b[32m━━━━━━━━━━━━━━━━━━━━\u001b[0m\u001b[37m\u001b[0m \u001b[1m12s\u001b[0m 95ms/step - loss: 0.0016\n",
            "Epoch 66/100\n",
            "\u001b[1m125/125\u001b[0m \u001b[32m━━━━━━━━━━━━━━━━━━━━\u001b[0m\u001b[37m\u001b[0m \u001b[1m6s\u001b[0m 46ms/step - loss: 0.0021\n",
            "Epoch 67/100\n",
            "\u001b[1m125/125\u001b[0m \u001b[32m━━━━━━━━━━━━━━━━━━━━\u001b[0m\u001b[37m\u001b[0m \u001b[1m6s\u001b[0m 45ms/step - loss: 0.0017\n",
            "Epoch 68/100\n",
            "\u001b[1m125/125\u001b[0m \u001b[32m━━━━━━━━━━━━━━━━━━━━\u001b[0m\u001b[37m\u001b[0m \u001b[1m10s\u001b[0m 47ms/step - loss: 0.0017\n",
            "Epoch 69/100\n",
            "\u001b[1m125/125\u001b[0m \u001b[32m━━━━━━━━━━━━━━━━━━━━\u001b[0m\u001b[37m\u001b[0m \u001b[1m10s\u001b[0m 47ms/step - loss: 0.0015\n",
            "Epoch 70/100\n",
            "\u001b[1m125/125\u001b[0m \u001b[32m━━━━━━━━━━━━━━━━━━━━\u001b[0m\u001b[37m\u001b[0m \u001b[1m0s\u001b[0m 44ms/step - loss: 0.0018Epoch 70: Synchronizing models.\n",
            "\u001b[1m125/125\u001b[0m \u001b[32m━━━━━━━━━━━━━━━━━━━━\u001b[0m\u001b[37m\u001b[0m \u001b[1m2s\u001b[0m 15ms/step\n"
          ]
        },
        {
          "name": "stderr",
          "output_type": "stream",
          "text": [
            "WARNING:absl:The `save_format` argument is deprecated in Keras 3. We recommend removing this argument as it can be inferred from the file path. Received: save_format=keras\n"
          ]
        },
        {
          "name": "stdout",
          "output_type": "stream",
          "text": [
            "GPU-Accelerated MSE at epoch 70: 0.001035977154970169\n",
            "Model saved to S3 bucket 'myhpcbucket-160903' with key 'model_checkpoints/worker_0_epoch_70.keras'.\n"
          ]
        },
        {
          "name": "stderr",
          "output_type": "stream",
          "text": [
            "WARNING:absl:The `save_format` argument is deprecated in Keras 3. We recommend removing this argument as it can be inferred from the file path. Received: save_format=keras\n"
          ]
        },
        {
          "name": "stdout",
          "output_type": "stream",
          "text": [
            "Model loaded from S3 bucket 'myhpcbucket-160903' with key 'model_checkpoints/worker_5_epoch_70.keras'.\n",
            "Model weights averaged.\n",
            "Models synchronized at epoch 70.\n",
            "Model saved to S3 bucket 'myhpcbucket-160903' with key 'model_checkpoints/averaged_epoch_70.keras'.\n",
            "\u001b[1m125/125\u001b[0m \u001b[32m━━━━━━━━━━━━━━━━━━━━\u001b[0m\u001b[37m\u001b[0m \u001b[1m12s\u001b[0m 93ms/step - loss: 0.0018\n",
            "Epoch 71/100\n",
            "\u001b[1m125/125\u001b[0m \u001b[32m━━━━━━━━━━━━━━━━━━━━\u001b[0m\u001b[37m\u001b[0m \u001b[1m15s\u001b[0m 47ms/step - loss: 0.0018\n",
            "Epoch 72/100\n",
            "\u001b[1m125/125\u001b[0m \u001b[32m━━━━━━━━━━━━━━━━━━━━\u001b[0m\u001b[37m\u001b[0m \u001b[1m10s\u001b[0m 46ms/step - loss: 0.0018\n",
            "Epoch 73/100\n",
            "\u001b[1m125/125\u001b[0m \u001b[32m━━━━━━━━━━━━━━━━━━━━\u001b[0m\u001b[37m\u001b[0m \u001b[1m10s\u001b[0m 45ms/step - loss: 0.0015\n",
            "Epoch 74/100\n",
            "\u001b[1m125/125\u001b[0m \u001b[32m━━━━━━━━━━━━━━━━━━━━\u001b[0m\u001b[37m\u001b[0m \u001b[1m10s\u001b[0m 45ms/step - loss: 0.0017\n",
            "Epoch 75/100\n",
            "\u001b[1m125/125\u001b[0m \u001b[32m━━━━━━━━━━━━━━━━━━━━\u001b[0m\u001b[37m\u001b[0m \u001b[1m0s\u001b[0m 45ms/step - loss: 0.0015Epoch 75: Synchronizing models.\n",
            "\u001b[1m125/125\u001b[0m \u001b[32m━━━━━━━━━━━━━━━━━━━━\u001b[0m\u001b[37m\u001b[0m \u001b[1m2s\u001b[0m 14ms/step\n"
          ]
        },
        {
          "name": "stderr",
          "output_type": "stream",
          "text": [
            "WARNING:absl:The `save_format` argument is deprecated in Keras 3. We recommend removing this argument as it can be inferred from the file path. Received: save_format=keras\n"
          ]
        },
        {
          "name": "stdout",
          "output_type": "stream",
          "text": [
            "GPU-Accelerated MSE at epoch 75: 0.001665077987127006\n",
            "Model saved to S3 bucket 'myhpcbucket-160903' with key 'model_checkpoints/worker_0_epoch_75.keras'.\n"
          ]
        },
        {
          "name": "stderr",
          "output_type": "stream",
          "text": [
            "WARNING:absl:The `save_format` argument is deprecated in Keras 3. We recommend removing this argument as it can be inferred from the file path. Received: save_format=keras\n"
          ]
        },
        {
          "name": "stdout",
          "output_type": "stream",
          "text": [
            "Model loaded from S3 bucket 'myhpcbucket-160903' with key 'model_checkpoints/worker_5_epoch_75.keras'.\n",
            "Model weights averaged.\n",
            "Models synchronized at epoch 75.\n",
            "Model saved to S3 bucket 'myhpcbucket-160903' with key 'model_checkpoints/averaged_epoch_75.keras'.\n",
            "\u001b[1m125/125\u001b[0m \u001b[32m━━━━━━━━━━━━━━━━━━━━\u001b[0m\u001b[37m\u001b[0m \u001b[1m16s\u001b[0m 91ms/step - loss: 0.0015\n",
            "Epoch 76/100\n",
            "\u001b[1m125/125\u001b[0m \u001b[32m━━━━━━━━━━━━━━━━━━━━\u001b[0m\u001b[37m\u001b[0m \u001b[1m15s\u001b[0m 47ms/step - loss: 0.0015\n",
            "Epoch 77/100\n",
            "\u001b[1m125/125\u001b[0m \u001b[32m━━━━━━━━━━━━━━━━━━━━\u001b[0m\u001b[37m\u001b[0m \u001b[1m10s\u001b[0m 48ms/step - loss: 0.0016\n",
            "Epoch 78/100\n",
            "\u001b[1m125/125\u001b[0m \u001b[32m━━━━━━━━━━━━━━━━━━━━\u001b[0m\u001b[37m\u001b[0m \u001b[1m10s\u001b[0m 46ms/step - loss: 0.0016\n",
            "Epoch 79/100\n",
            "\u001b[1m125/125\u001b[0m \u001b[32m━━━━━━━━━━━━━━━━━━━━\u001b[0m\u001b[37m\u001b[0m \u001b[1m6s\u001b[0m 46ms/step - loss: 0.0015\n",
            "Epoch 80/100\n",
            "\u001b[1m125/125\u001b[0m \u001b[32m━━━━━━━━━━━━━━━━━━━━\u001b[0m\u001b[37m\u001b[0m \u001b[1m0s\u001b[0m 48ms/step - loss: 0.0016Epoch 80: Synchronizing models.\n",
            "\u001b[1m125/125\u001b[0m \u001b[32m━━━━━━━━━━━━━━━━━━━━\u001b[0m\u001b[37m\u001b[0m \u001b[1m2s\u001b[0m 15ms/step\n"
          ]
        },
        {
          "name": "stderr",
          "output_type": "stream",
          "text": [
            "WARNING:absl:The `save_format` argument is deprecated in Keras 3. We recommend removing this argument as it can be inferred from the file path. Received: save_format=keras\n"
          ]
        },
        {
          "name": "stdout",
          "output_type": "stream",
          "text": [
            "GPU-Accelerated MSE at epoch 80: 0.002048082649707794\n",
            "Model saved to S3 bucket 'myhpcbucket-160903' with key 'model_checkpoints/worker_0_epoch_80.keras'.\n"
          ]
        },
        {
          "name": "stderr",
          "output_type": "stream",
          "text": [
            "WARNING:absl:The `save_format` argument is deprecated in Keras 3. We recommend removing this argument as it can be inferred from the file path. Received: save_format=keras\n"
          ]
        },
        {
          "name": "stdout",
          "output_type": "stream",
          "text": [
            "Model loaded from S3 bucket 'myhpcbucket-160903' with key 'model_checkpoints/worker_5_epoch_80.keras'.\n",
            "Model weights averaged.\n",
            "Models synchronized at epoch 80.\n",
            "Model saved to S3 bucket 'myhpcbucket-160903' with key 'model_checkpoints/averaged_epoch_80.keras'.\n",
            "\u001b[1m125/125\u001b[0m \u001b[32m━━━━━━━━━━━━━━━━━━━━\u001b[0m\u001b[37m\u001b[0m \u001b[1m16s\u001b[0m 91ms/step - loss: 0.0016\n",
            "Epoch 81/100\n",
            "\u001b[1m125/125\u001b[0m \u001b[32m━━━━━━━━━━━━━━━━━━━━\u001b[0m\u001b[37m\u001b[0m \u001b[1m15s\u001b[0m 45ms/step - loss: 0.0017\n",
            "Epoch 82/100\n",
            "\u001b[1m125/125\u001b[0m \u001b[32m━━━━━━━━━━━━━━━━━━━━\u001b[0m\u001b[37m\u001b[0m \u001b[1m6s\u001b[0m 46ms/step - loss: 0.0016\n",
            "Epoch 83/100\n",
            "\u001b[1m125/125\u001b[0m \u001b[32m━━━━━━━━━━━━━━━━━━━━\u001b[0m\u001b[37m\u001b[0m \u001b[1m10s\u001b[0m 47ms/step - loss: 0.0015\n",
            "Epoch 84/100\n",
            "\u001b[1m125/125\u001b[0m \u001b[32m━━━━━━━━━━━━━━━━━━━━\u001b[0m\u001b[37m\u001b[0m \u001b[1m6s\u001b[0m 44ms/step - loss: 0.0016\n",
            "Epoch 85/100\n",
            "\u001b[1m125/125\u001b[0m \u001b[32m━━━━━━━━━━━━━━━━━━━━\u001b[0m\u001b[37m\u001b[0m \u001b[1m0s\u001b[0m 45ms/step - loss: 0.0014Epoch 85: Synchronizing models.\n",
            "\u001b[1m125/125\u001b[0m \u001b[32m━━━━━━━━━━━━━━━━━━━━\u001b[0m\u001b[37m\u001b[0m \u001b[1m3s\u001b[0m 20ms/step\n"
          ]
        },
        {
          "name": "stderr",
          "output_type": "stream",
          "text": [
            "WARNING:absl:The `save_format` argument is deprecated in Keras 3. We recommend removing this argument as it can be inferred from the file path. Received: save_format=keras\n"
          ]
        },
        {
          "name": "stdout",
          "output_type": "stream",
          "text": [
            "GPU-Accelerated MSE at epoch 85: 0.003159173531457782\n",
            "Model saved to S3 bucket 'myhpcbucket-160903' with key 'model_checkpoints/worker_0_epoch_85.keras'.\n"
          ]
        },
        {
          "name": "stderr",
          "output_type": "stream",
          "text": [
            "WARNING:absl:The `save_format` argument is deprecated in Keras 3. We recommend removing this argument as it can be inferred from the file path. Received: save_format=keras\n"
          ]
        },
        {
          "name": "stdout",
          "output_type": "stream",
          "text": [
            "Model loaded from S3 bucket 'myhpcbucket-160903' with key 'model_checkpoints/worker_5_epoch_85.keras'.\n",
            "Model weights averaged.\n",
            "Models synchronized at epoch 85.\n",
            "Model saved to S3 bucket 'myhpcbucket-160903' with key 'model_checkpoints/averaged_epoch_85.keras'.\n",
            "\u001b[1m125/125\u001b[0m \u001b[32m━━━━━━━━━━━━━━━━━━━━\u001b[0m\u001b[37m\u001b[0m \u001b[1m11s\u001b[0m 91ms/step - loss: 0.0014\n",
            "Epoch 86/100\n",
            "\u001b[1m125/125\u001b[0m \u001b[32m━━━━━━━━━━━━━━━━━━━━\u001b[0m\u001b[37m\u001b[0m \u001b[1m6s\u001b[0m 45ms/step - loss: 0.0017\n",
            "Epoch 87/100\n",
            "\u001b[1m125/125\u001b[0m \u001b[32m━━━━━━━━━━━━━━━━━━━━\u001b[0m\u001b[37m\u001b[0m \u001b[1m6s\u001b[0m 46ms/step - loss: 0.0015\n",
            "Epoch 88/100\n",
            "\u001b[1m125/125\u001b[0m \u001b[32m━━━━━━━━━━━━━━━━━━━━\u001b[0m\u001b[37m\u001b[0m \u001b[1m10s\u001b[0m 48ms/step - loss: 0.0014\n",
            "Epoch 89/100\n",
            "\u001b[1m125/125\u001b[0m \u001b[32m━━━━━━━━━━━━━━━━━━━━\u001b[0m\u001b[37m\u001b[0m \u001b[1m10s\u001b[0m 46ms/step - loss: 0.0015\n",
            "Epoch 90/100\n",
            "\u001b[1m125/125\u001b[0m \u001b[32m━━━━━━━━━━━━━━━━━━━━\u001b[0m\u001b[37m\u001b[0m \u001b[1m0s\u001b[0m 46ms/step - loss: 0.0015Epoch 90: Synchronizing models.\n",
            "\u001b[1m125/125\u001b[0m \u001b[32m━━━━━━━━━━━━━━━━━━━━\u001b[0m\u001b[37m\u001b[0m \u001b[1m2s\u001b[0m 14ms/step\n"
          ]
        },
        {
          "name": "stderr",
          "output_type": "stream",
          "text": [
            "WARNING:absl:The `save_format` argument is deprecated in Keras 3. We recommend removing this argument as it can be inferred from the file path. Received: save_format=keras\n"
          ]
        },
        {
          "name": "stdout",
          "output_type": "stream",
          "text": [
            "GPU-Accelerated MSE at epoch 90: 0.002409408101812005\n",
            "Model saved to S3 bucket 'myhpcbucket-160903' with key 'model_checkpoints/worker_0_epoch_90.keras'.\n"
          ]
        },
        {
          "name": "stderr",
          "output_type": "stream",
          "text": [
            "WARNING:absl:The `save_format` argument is deprecated in Keras 3. We recommend removing this argument as it can be inferred from the file path. Received: save_format=keras\n"
          ]
        },
        {
          "name": "stdout",
          "output_type": "stream",
          "text": [
            "Model loaded from S3 bucket 'myhpcbucket-160903' with key 'model_checkpoints/worker_5_epoch_90.keras'.\n",
            "Model weights averaged.\n",
            "Models synchronized at epoch 90.\n",
            "Model saved to S3 bucket 'myhpcbucket-160903' with key 'model_checkpoints/averaged_epoch_90.keras'.\n",
            "\u001b[1m125/125\u001b[0m \u001b[32m━━━━━━━━━━━━━━━━━━━━\u001b[0m\u001b[37m\u001b[0m \u001b[1m11s\u001b[0m 87ms/step - loss: 0.0015\n",
            "Epoch 91/100\n",
            "\u001b[1m125/125\u001b[0m \u001b[32m━━━━━━━━━━━━━━━━━━━━\u001b[0m\u001b[37m\u001b[0m \u001b[1m6s\u001b[0m 48ms/step - loss: 0.0015\n",
            "Epoch 92/100\n",
            "\u001b[1m125/125\u001b[0m \u001b[32m━━━━━━━━━━━━━━━━━━━━\u001b[0m\u001b[37m\u001b[0m \u001b[1m5s\u001b[0m 44ms/step - loss: 0.0015\n",
            "Epoch 93/100\n",
            "\u001b[1m125/125\u001b[0m \u001b[32m━━━━━━━━━━━━━━━━━━━━\u001b[0m\u001b[37m\u001b[0m \u001b[1m10s\u001b[0m 45ms/step - loss: 0.0016\n",
            "Epoch 94/100\n",
            "\u001b[1m125/125\u001b[0m \u001b[32m━━━━━━━━━━━━━━━━━━━━\u001b[0m\u001b[37m\u001b[0m \u001b[1m6s\u001b[0m 46ms/step - loss: 0.0015\n",
            "Epoch 95/100\n",
            "\u001b[1m124/125\u001b[0m \u001b[32m━━━━━━━━━━━━━━━━━━━\u001b[0m\u001b[37m━\u001b[0m \u001b[1m0s\u001b[0m 45ms/step - loss: 0.0016Epoch 95: Synchronizing models.\n",
            "\u001b[1m125/125\u001b[0m \u001b[32m━━━━━━━━━━━━━━━━━━━━\u001b[0m\u001b[37m\u001b[0m \u001b[1m2s\u001b[0m 19ms/step\n"
          ]
        },
        {
          "name": "stderr",
          "output_type": "stream",
          "text": [
            "WARNING:absl:The `save_format` argument is deprecated in Keras 3. We recommend removing this argument as it can be inferred from the file path. Received: save_format=keras\n"
          ]
        },
        {
          "name": "stdout",
          "output_type": "stream",
          "text": [
            "GPU-Accelerated MSE at epoch 95: 0.003176697064191103\n",
            "Model saved to S3 bucket 'myhpcbucket-160903' with key 'model_checkpoints/worker_0_epoch_95.keras'.\n"
          ]
        },
        {
          "name": "stderr",
          "output_type": "stream",
          "text": [
            "WARNING:absl:The `save_format` argument is deprecated in Keras 3. We recommend removing this argument as it can be inferred from the file path. Received: save_format=keras\n"
          ]
        },
        {
          "name": "stdout",
          "output_type": "stream",
          "text": [
            "Model loaded from S3 bucket 'myhpcbucket-160903' with key 'model_checkpoints/worker_5_epoch_95.keras'.\n",
            "Model weights averaged.\n",
            "Models synchronized at epoch 95.\n",
            "Model saved to S3 bucket 'myhpcbucket-160903' with key 'model_checkpoints/averaged_epoch_95.keras'.\n",
            "\u001b[1m125/125\u001b[0m \u001b[32m━━━━━━━━━━━━━━━━━━━━\u001b[0m\u001b[37m\u001b[0m \u001b[1m16s\u001b[0m 89ms/step - loss: 0.0016\n",
            "Epoch 96/100\n",
            "\u001b[1m125/125\u001b[0m \u001b[32m━━━━━━━━━━━━━━━━━━━━\u001b[0m\u001b[37m\u001b[0m \u001b[1m6s\u001b[0m 48ms/step - loss: 0.0024\n",
            "Epoch 97/100\n",
            "\u001b[1m125/125\u001b[0m \u001b[32m━━━━━━━━━━━━━━━━━━━━\u001b[0m\u001b[37m\u001b[0m \u001b[1m6s\u001b[0m 47ms/step - loss: 0.0017\n",
            "Epoch 98/100\n",
            "\u001b[1m125/125\u001b[0m \u001b[32m━━━━━━━━━━━━━━━━━━━━\u001b[0m\u001b[37m\u001b[0m \u001b[1m10s\u001b[0m 46ms/step - loss: 0.0017\n",
            "Epoch 99/100\n",
            "\u001b[1m125/125\u001b[0m \u001b[32m━━━━━━━━━━━━━━━━━━━━\u001b[0m\u001b[37m\u001b[0m \u001b[1m10s\u001b[0m 45ms/step - loss: 0.0013\n",
            "Epoch 100/100\n",
            "\u001b[1m124/125\u001b[0m \u001b[32m━━━━━━━━━━━━━━━━━━━\u001b[0m\u001b[37m━\u001b[0m \u001b[1m0s\u001b[0m 45ms/step - loss: 0.0016Epoch 100: Synchronizing models.\n",
            "\u001b[1m125/125\u001b[0m \u001b[32m━━━━━━━━━━━━━━━━━━━━\u001b[0m\u001b[37m\u001b[0m \u001b[1m2s\u001b[0m 15ms/step\n"
          ]
        },
        {
          "name": "stderr",
          "output_type": "stream",
          "text": [
            "WARNING:absl:The `save_format` argument is deprecated in Keras 3. We recommend removing this argument as it can be inferred from the file path. Received: save_format=keras\n"
          ]
        },
        {
          "name": "stdout",
          "output_type": "stream",
          "text": [
            "GPU-Accelerated MSE at epoch 100: 0.0026915224734693766\n",
            "Model saved to S3 bucket 'myhpcbucket-160903' with key 'model_checkpoints/worker_0_epoch_100.keras'.\n"
          ]
        },
        {
          "name": "stderr",
          "output_type": "stream",
          "text": [
            "WARNING:absl:The `save_format` argument is deprecated in Keras 3. We recommend removing this argument as it can be inferred from the file path. Received: save_format=keras\n"
          ]
        },
        {
          "name": "stdout",
          "output_type": "stream",
          "text": [
            "Model loaded from S3 bucket 'myhpcbucket-160903' with key 'model_checkpoints/worker_5_epoch_100.keras'.\n",
            "Model weights averaged.\n",
            "Models synchronized at epoch 100.\n",
            "Model saved to S3 bucket 'myhpcbucket-160903' with key 'model_checkpoints/averaged_epoch_100.keras'.\n",
            "\u001b[1m125/125\u001b[0m \u001b[32m━━━━━━━━━━━━━━━━━━━━\u001b[0m\u001b[37m\u001b[0m \u001b[1m16s\u001b[0m 90ms/step - loss: 0.0016\n",
            "Training completed in 999.59 seconds.\n"
          ]
        }
      ],
      "source": [
        "# Example Usage in Main Function\n",
        "def main():\n",
        "    # Verify S3 credentials before proceeding\n",
        "    if not verify_s3_credentials(s3_client):\n",
        "        print(\"Cannot proceed with training due to credential issues.\")\n",
        "        return\n",
        "\n",
        "    # Initialize PyCUDA MSE Computer\n",
        "    mse_computer = PyCUDAMSEComputer()\n",
        "\n",
        "    # Assign worker ID\n",
        "    worker_id = 'worker_0'\n",
        "\n",
        "    # Create synchronization callback\n",
        "    sync_callback = PyCUDASynchronizationCallback(\n",
        "        worker_id,\n",
        "        s3_client,\n",
        "        s3_bucket_name,\n",
        "        sync_epochs=5,\n",
        "        mse_computer=mse_computer\n",
        "    )\n",
        "\n",
        "    # Compile and train model\n",
        "    model.compile(loss='mean_squared_error', optimizer='adam')\n",
        "    start_time = time.time()\n",
        "\n",
        "    model.fit(\n",
        "        x_train, y_train,\n",
        "        epochs=100,\n",
        "        batch_size=32,\n",
        "        callbacks=[sync_callback]\n",
        "    )\n",
        "\n",
        "    end_time = time.time()\n",
        "\n",
        "    elapsed_time = end_time - start_time\n",
        "\n",
        "    print(f\"Training completed in {elapsed_time:.2f} seconds.\")\n",
        "\n",
        "main()"
      ]
    },
    {
      "cell_type": "code",
      "execution_count": null,
      "metadata": {
        "id": "bbwim-oDz_em"
      },
      "outputs": [],
      "source": [
        "model.save('keras_model.h5')"
      ]
    },
    {
      "cell_type": "code",
      "execution_count": 65,
      "metadata": {
        "colab": {
          "base_uri": "https://localhost:8080/",
          "height": 206
        },
        "id": "13ggQP0IKUNM",
        "outputId": "6da3ab2a-2329-48b7-e94c-33c4802450ae"
      },
      "outputs": [
        {
          "data": {
            "application/vnd.google.colaboratory.intrinsic+json": {
              "summary": "{\n  \"name\": \"final_df\",\n  \"rows\": 1121,\n  \"fields\": [\n    {\n      \"column\": \"GOOGL\",\n      \"properties\": {\n        \"dtype\": \"number\",\n        \"std\": 28.230249421831218,\n        \"min\": 68.12699890136719,\n        \"max\": 191.17999267578125,\n        \"num_unique_values\": 1099,\n        \"samples\": [\n          117.20999908447266,\n          160.3699951171875,\n          135.8885040283203\n        ],\n        \"semantic_type\": \"\",\n        \"description\": \"\"\n      }\n    }\n  ]\n}",
              "type": "dataframe",
              "variable_name": "final_df"
            },
            "text/html": [
              "\n",
              "  <div id=\"df-e2e1ce13-7f11-4f80-b859-f42b9a8afbb4\" class=\"colab-df-container\">\n",
              "    <div>\n",
              "<style scoped>\n",
              "    .dataframe tbody tr th:only-of-type {\n",
              "        vertical-align: middle;\n",
              "    }\n",
              "\n",
              "    .dataframe tbody tr th {\n",
              "        vertical-align: top;\n",
              "    }\n",
              "\n",
              "    .dataframe thead th {\n",
              "        text-align: right;\n",
              "    }\n",
              "</style>\n",
              "<table border=\"1\" class=\"dataframe\">\n",
              "  <thead>\n",
              "    <tr style=\"text-align: right;\">\n",
              "      <th>Ticker</th>\n",
              "      <th>GOOGL</th>\n",
              "    </tr>\n",
              "  </thead>\n",
              "  <tbody>\n",
              "    <tr>\n",
              "      <th>0</th>\n",
              "      <td>72.323502</td>\n",
              "    </tr>\n",
              "    <tr>\n",
              "      <th>1</th>\n",
              "      <td>72.626999</td>\n",
              "    </tr>\n",
              "    <tr>\n",
              "      <th>2</th>\n",
              "      <td>71.706001</td>\n",
              "    </tr>\n",
              "    <tr>\n",
              "      <th>3</th>\n",
              "      <td>71.232002</td>\n",
              "    </tr>\n",
              "    <tr>\n",
              "      <th>4</th>\n",
              "      <td>72.532997</td>\n",
              "    </tr>\n",
              "  </tbody>\n",
              "</table>\n",
              "</div>\n",
              "    <div class=\"colab-df-buttons\">\n",
              "\n",
              "  <div class=\"colab-df-container\">\n",
              "    <button class=\"colab-df-convert\" onclick=\"convertToInteractive('df-e2e1ce13-7f11-4f80-b859-f42b9a8afbb4')\"\n",
              "            title=\"Convert this dataframe to an interactive table.\"\n",
              "            style=\"display:none;\">\n",
              "\n",
              "  <svg xmlns=\"http://www.w3.org/2000/svg\" height=\"24px\" viewBox=\"0 -960 960 960\">\n",
              "    <path d=\"M120-120v-720h720v720H120Zm60-500h600v-160H180v160Zm220 220h160v-160H400v160Zm0 220h160v-160H400v160ZM180-400h160v-160H180v160Zm440 0h160v-160H620v160ZM180-180h160v-160H180v160Zm440 0h160v-160H620v160Z\"/>\n",
              "  </svg>\n",
              "    </button>\n",
              "\n",
              "  <style>\n",
              "    .colab-df-container {\n",
              "      display:flex;\n",
              "      gap: 12px;\n",
              "    }\n",
              "\n",
              "    .colab-df-convert {\n",
              "      background-color: #E8F0FE;\n",
              "      border: none;\n",
              "      border-radius: 50%;\n",
              "      cursor: pointer;\n",
              "      display: none;\n",
              "      fill: #1967D2;\n",
              "      height: 32px;\n",
              "      padding: 0 0 0 0;\n",
              "      width: 32px;\n",
              "    }\n",
              "\n",
              "    .colab-df-convert:hover {\n",
              "      background-color: #E2EBFA;\n",
              "      box-shadow: 0px 1px 2px rgba(60, 64, 67, 0.3), 0px 1px 3px 1px rgba(60, 64, 67, 0.15);\n",
              "      fill: #174EA6;\n",
              "    }\n",
              "\n",
              "    .colab-df-buttons div {\n",
              "      margin-bottom: 4px;\n",
              "    }\n",
              "\n",
              "    [theme=dark] .colab-df-convert {\n",
              "      background-color: #3B4455;\n",
              "      fill: #D2E3FC;\n",
              "    }\n",
              "\n",
              "    [theme=dark] .colab-df-convert:hover {\n",
              "      background-color: #434B5C;\n",
              "      box-shadow: 0px 1px 3px 1px rgba(0, 0, 0, 0.15);\n",
              "      filter: drop-shadow(0px 1px 2px rgba(0, 0, 0, 0.3));\n",
              "      fill: #FFFFFF;\n",
              "    }\n",
              "  </style>\n",
              "\n",
              "    <script>\n",
              "      const buttonEl =\n",
              "        document.querySelector('#df-e2e1ce13-7f11-4f80-b859-f42b9a8afbb4 button.colab-df-convert');\n",
              "      buttonEl.style.display =\n",
              "        google.colab.kernel.accessAllowed ? 'block' : 'none';\n",
              "\n",
              "      async function convertToInteractive(key) {\n",
              "        const element = document.querySelector('#df-e2e1ce13-7f11-4f80-b859-f42b9a8afbb4');\n",
              "        const dataTable =\n",
              "          await google.colab.kernel.invokeFunction('convertToInteractive',\n",
              "                                                    [key], {});\n",
              "        if (!dataTable) return;\n",
              "\n",
              "        const docLinkHtml = 'Like what you see? Visit the ' +\n",
              "          '<a target=\"_blank\" href=https://colab.research.google.com/notebooks/data_table.ipynb>data table notebook</a>'\n",
              "          + ' to learn more about interactive tables.';\n",
              "        element.innerHTML = '';\n",
              "        dataTable['output_type'] = 'display_data';\n",
              "        await google.colab.output.renderOutput(dataTable, element);\n",
              "        const docLink = document.createElement('div');\n",
              "        docLink.innerHTML = docLinkHtml;\n",
              "        element.appendChild(docLink);\n",
              "      }\n",
              "    </script>\n",
              "  </div>\n",
              "\n",
              "\n",
              "<div id=\"df-ad540c53-7543-4819-8b65-b4f875edd8b7\">\n",
              "  <button class=\"colab-df-quickchart\" onclick=\"quickchart('df-ad540c53-7543-4819-8b65-b4f875edd8b7')\"\n",
              "            title=\"Suggest charts\"\n",
              "            style=\"display:none;\">\n",
              "\n",
              "<svg xmlns=\"http://www.w3.org/2000/svg\" height=\"24px\"viewBox=\"0 0 24 24\"\n",
              "     width=\"24px\">\n",
              "    <g>\n",
              "        <path d=\"M19 3H5c-1.1 0-2 .9-2 2v14c0 1.1.9 2 2 2h14c1.1 0 2-.9 2-2V5c0-1.1-.9-2-2-2zM9 17H7v-7h2v7zm4 0h-2V7h2v10zm4 0h-2v-4h2v4z\"/>\n",
              "    </g>\n",
              "</svg>\n",
              "  </button>\n",
              "\n",
              "<style>\n",
              "  .colab-df-quickchart {\n",
              "      --bg-color: #E8F0FE;\n",
              "      --fill-color: #1967D2;\n",
              "      --hover-bg-color: #E2EBFA;\n",
              "      --hover-fill-color: #174EA6;\n",
              "      --disabled-fill-color: #AAA;\n",
              "      --disabled-bg-color: #DDD;\n",
              "  }\n",
              "\n",
              "  [theme=dark] .colab-df-quickchart {\n",
              "      --bg-color: #3B4455;\n",
              "      --fill-color: #D2E3FC;\n",
              "      --hover-bg-color: #434B5C;\n",
              "      --hover-fill-color: #FFFFFF;\n",
              "      --disabled-bg-color: #3B4455;\n",
              "      --disabled-fill-color: #666;\n",
              "  }\n",
              "\n",
              "  .colab-df-quickchart {\n",
              "    background-color: var(--bg-color);\n",
              "    border: none;\n",
              "    border-radius: 50%;\n",
              "    cursor: pointer;\n",
              "    display: none;\n",
              "    fill: var(--fill-color);\n",
              "    height: 32px;\n",
              "    padding: 0;\n",
              "    width: 32px;\n",
              "  }\n",
              "\n",
              "  .colab-df-quickchart:hover {\n",
              "    background-color: var(--hover-bg-color);\n",
              "    box-shadow: 0 1px 2px rgba(60, 64, 67, 0.3), 0 1px 3px 1px rgba(60, 64, 67, 0.15);\n",
              "    fill: var(--button-hover-fill-color);\n",
              "  }\n",
              "\n",
              "  .colab-df-quickchart-complete:disabled,\n",
              "  .colab-df-quickchart-complete:disabled:hover {\n",
              "    background-color: var(--disabled-bg-color);\n",
              "    fill: var(--disabled-fill-color);\n",
              "    box-shadow: none;\n",
              "  }\n",
              "\n",
              "  .colab-df-spinner {\n",
              "    border: 2px solid var(--fill-color);\n",
              "    border-color: transparent;\n",
              "    border-bottom-color: var(--fill-color);\n",
              "    animation:\n",
              "      spin 1s steps(1) infinite;\n",
              "  }\n",
              "\n",
              "  @keyframes spin {\n",
              "    0% {\n",
              "      border-color: transparent;\n",
              "      border-bottom-color: var(--fill-color);\n",
              "      border-left-color: var(--fill-color);\n",
              "    }\n",
              "    20% {\n",
              "      border-color: transparent;\n",
              "      border-left-color: var(--fill-color);\n",
              "      border-top-color: var(--fill-color);\n",
              "    }\n",
              "    30% {\n",
              "      border-color: transparent;\n",
              "      border-left-color: var(--fill-color);\n",
              "      border-top-color: var(--fill-color);\n",
              "      border-right-color: var(--fill-color);\n",
              "    }\n",
              "    40% {\n",
              "      border-color: transparent;\n",
              "      border-right-color: var(--fill-color);\n",
              "      border-top-color: var(--fill-color);\n",
              "    }\n",
              "    60% {\n",
              "      border-color: transparent;\n",
              "      border-right-color: var(--fill-color);\n",
              "    }\n",
              "    80% {\n",
              "      border-color: transparent;\n",
              "      border-right-color: var(--fill-color);\n",
              "      border-bottom-color: var(--fill-color);\n",
              "    }\n",
              "    90% {\n",
              "      border-color: transparent;\n",
              "      border-bottom-color: var(--fill-color);\n",
              "    }\n",
              "  }\n",
              "</style>\n",
              "\n",
              "  <script>\n",
              "    async function quickchart(key) {\n",
              "      const quickchartButtonEl =\n",
              "        document.querySelector('#' + key + ' button');\n",
              "      quickchartButtonEl.disabled = true;  // To prevent multiple clicks.\n",
              "      quickchartButtonEl.classList.add('colab-df-spinner');\n",
              "      try {\n",
              "        const charts = await google.colab.kernel.invokeFunction(\n",
              "            'suggestCharts', [key], {});\n",
              "      } catch (error) {\n",
              "        console.error('Error during call to suggestCharts:', error);\n",
              "      }\n",
              "      quickchartButtonEl.classList.remove('colab-df-spinner');\n",
              "      quickchartButtonEl.classList.add('colab-df-quickchart-complete');\n",
              "    }\n",
              "    (() => {\n",
              "      let quickchartButtonEl =\n",
              "        document.querySelector('#df-ad540c53-7543-4819-8b65-b4f875edd8b7 button');\n",
              "      quickchartButtonEl.style.display =\n",
              "        google.colab.kernel.accessAllowed ? 'block' : 'none';\n",
              "    })();\n",
              "  </script>\n",
              "</div>\n",
              "\n",
              "    </div>\n",
              "  </div>\n"
            ],
            "text/plain": [
              "Ticker      GOOGL\n",
              "0       72.323502\n",
              "1       72.626999\n",
              "2       71.706001\n",
              "3       71.232002\n",
              "4       72.532997"
            ]
          },
          "execution_count": 65,
          "metadata": {},
          "output_type": "execute_result"
        }
      ],
      "source": [
        "past_100_days = train_df.tail(100)\n",
        "final_df = past_100_days._append(test_df, ignore_index=True)\n",
        "final_df.head()"
      ]
    },
    {
      "cell_type": "code",
      "execution_count": 66,
      "metadata": {
        "colab": {
          "base_uri": "https://localhost:8080/"
        },
        "id": "cmb09IAqKWSS",
        "outputId": "775918bd-adfe-481b-8c9a-3589b4e24cb1"
      },
      "outputs": [
        {
          "name": "stdout",
          "output_type": "stream",
          "text": [
            "Scaled data (array):\n",
            "[[0.03410321]\n",
            " [0.03656961]\n",
            " [0.02908505]\n",
            " [0.02523306]\n",
            " [0.0358057 ]]\n",
            "Input data shape: (1121, 1)\n"
          ]
        },
        {
          "name": "stderr",
          "output_type": "stream",
          "text": [
            "/usr/local/lib/python3.10/dist-packages/google/colab/_variable_inspector.py:27: UserWarning: module in out-of-thread context could not be cleaned up\n",
            "  globals().clear()\n",
            "/usr/local/lib/python3.10/dist-packages/google/colab/_variable_inspector.py:27: UserWarning: device_allocation in out-of-thread context could not be cleaned up\n",
            "  globals().clear()\n"
          ]
        }
      ],
      "source": [
        "# Define the CUDA kernel\n",
        "kernel_code = \"\"\"\n",
        "__global__ void min_max_scaler(float *data, float *min_vals, float *max_vals, int rows, int cols) {\n",
        "    int idx = threadIdx.x + blockIdx.x * blockDim.x;\n",
        "    int col = idx % cols;\n",
        "    int row = idx / cols;\n",
        "\n",
        "    if (row < rows && col < cols) {\n",
        "        float min_val = min_vals[col];\n",
        "        float max_val = max_vals[col];\n",
        "        data[idx] = (data[idx] - min_val) / (max_val - min_val);\n",
        "    }\n",
        "}\n",
        "\"\"\"\n",
        "\n",
        "# Compile the kernel\n",
        "mod = SourceModule(kernel_code)\n",
        "min_max_scaler = mod.get_function(\"min_max_scaler\")\n",
        "\n",
        "# Assuming final_df is a Pandas DataFrame\n",
        "final_df_arr = final_df.to_numpy().astype(np.float32)  # Convert to NumPy array\n",
        "rows, cols = final_df_arr.shape\n",
        "\n",
        "# Calculate min and max values per column for final_df\n",
        "min_vals_final = final_df_arr.min(axis=0).astype(np.float32)\n",
        "max_vals_final = final_df_arr.max(axis=0).astype(np.float32)\n",
        "\n",
        "# Allocate GPU memory and transfer data\n",
        "final_df_gpu = cuda.mem_alloc(final_df_arr.nbytes)\n",
        "cuda.memcpy_htod(final_df_gpu, final_df_arr)\n",
        "\n",
        "min_vals_final_gpu = cuda.mem_alloc(min_vals_final.nbytes)\n",
        "cuda.memcpy_htod(min_vals_final_gpu, min_vals_final)\n",
        "\n",
        "max_vals_final_gpu = cuda.mem_alloc(max_vals_final.nbytes)\n",
        "cuda.memcpy_htod(max_vals_final_gpu, max_vals_final)\n",
        "\n",
        "# Launch the CUDA kernel\n",
        "threads_per_block = 256\n",
        "blocks_per_grid = (rows * cols + threads_per_block - 1) // threads_per_block\n",
        "min_max_scaler(final_df_gpu, min_vals_final_gpu, max_vals_final_gpu, np.int32(rows), np.int32(cols),\n",
        "               block=(threads_per_block, 1, 1), grid=(blocks_per_grid, 1))\n",
        "\n",
        "# Copy back the scaled data\n",
        "final_df_scaled = np.empty_like(final_df_arr)\n",
        "cuda.memcpy_dtoh(final_df_scaled, final_df_gpu)\n",
        "\n",
        "# `final_df_scaled` is now a scaled NumPy array\n",
        "input_data = final_df_scaled  # Keep as NumPy array\n",
        "\n",
        "# Display the first few rows of the scaled array\n",
        "print(\"Scaled data (array):\")\n",
        "print(input_data[:5])  # Print the first 5 rows\n",
        "print(\"Input data shape:\", input_data.shape)\n"
      ]
    },
    {
      "cell_type": "code",
      "execution_count": 67,
      "metadata": {
        "colab": {
          "base_uri": "https://localhost:8080/",
          "height": 560
        },
        "id": "pjzHTfbl0DRS",
        "outputId": "3cf50b9b-6338-4cb2-9dea-a628828c5cd6"
      },
      "outputs": [
        {
          "name": "stdout",
          "output_type": "stream",
          "text": [
            "\u001b[1m32/32\u001b[0m \u001b[32m━━━━━━━━━━━━━━━━━━━━\u001b[0m\u001b[37m\u001b[0m \u001b[1m1s\u001b[0m 40ms/step\n"
          ]
        },
        {
          "data": {
            "image/png": "[encoded data removed]",
            "text/plain": [
              "<Figure size 1200x600 with 1 Axes>"
            ]
          },
          "metadata": {},
          "output_type": "display_data"
        }
      ],
      "source": [
        "x_test = []\n",
        "y_test = []\n",
        "for i in range(100, input_data.shape[0]):\n",
        "    x_test.append(input_data[i-100: i])\n",
        "    y_test.append(input_data[i, 0])\n",
        "x_test, y_test = np.array(x_test), np.array(y_test)\n",
        "x_test.shape, y_test.shape\n",
        "y_pred = model.predict(x_test)\n",
        "\n",
        "final_df_arr = final_df.to_numpy().astype(np.float32)\n",
        "rows, cols = final_df_arr.shape\n",
        "\n",
        "# Calculate min and max values per column for final_df\n",
        "min_vals_final = final_df_arr.min(axis=0).astype(np.float32)\n",
        "max_vals_final = final_df_arr.max(axis=0).astype(np.float32)\n",
        "\n",
        "# Calculate the scale values for each feature\n",
        "scale = 1.0 / (max_vals_final - min_vals_final)\n",
        "scale_factor = 1/scale\n",
        "y_pred = y_pred*scale_factor\n",
        "y_test = y_test*scale_factor\n",
        "\n",
        "\n",
        "plt.figure(figsize=(12, 6))\n",
        "plt.plot(y_test, 'g', label=\"Original Price\")\n",
        "plt.plot(y_pred, 'r', label=\"Predicted Price\")\n",
        "plt.xlabel(\"Time\")\n",
        "plt.ylabel(\"Price\")\n",
        "plt.legend()\n",
        "plt.show()"
      ]
    }
  ],
  "metadata": {
    "accelerator": "GPU",
    "colab": {
      "collapsed_sections": [
        "G6xecwLaFkPf"
      ],
      "gpuType": "T4",
      "provenance": []
    },
    "kernelspec": {
      "display_name": "Python 3",
      "name": "python3"
    },
    "language_info": {
      "name": "python"
    }
  },
  "nbformat": 4,
  "nbformat_minor": 0
}
